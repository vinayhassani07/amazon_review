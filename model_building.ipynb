{
 "cells": [
  {
   "cell_type": "code",
   "execution_count": 2,
   "metadata": {
    "ExecuteTime": {
     "end_time": "2022-01-31T06:54:36.774326Z",
     "start_time": "2022-01-31T06:54:33.702912Z"
    },
    "id": "UmQyEHjRJtBp"
   },
   "outputs": [
    {
     "name": "stderr",
     "output_type": "stream",
     "text": [
      "E:\\anaconda\\lib\\site-packages\\statsmodels\\compat\\pandas.py:65: FutureWarning: pandas.Int64Index is deprecated and will be removed from pandas in a future version. Use pandas.Index with the appropriate dtype instead.\n",
      "  from pandas import Int64Index as NumericIndex\n"
     ]
    }
   ],
   "source": [
    "import pandas as pd\n",
    "import numpy as np\n",
    "import seaborn as sns\n",
    "import matplotlib.pyplot as plt\n",
    "\n",
    "from sklearn.feature_extraction.text import CountVectorizer\n",
    "from sklearn.model_selection import train_test_split\n",
    "from sklearn.metrics import confusion_matrix, classification_report "
   ]
  },
  {
   "cell_type": "code",
   "execution_count": 3,
   "metadata": {
    "ExecuteTime": {
     "end_time": "2022-01-31T06:54:36.913701Z",
     "start_time": "2022-01-31T06:54:36.889766Z"
    },
    "id": "-Tm7FnTPJtBs"
   },
   "outputs": [],
   "source": [
    "reviews = pd.read_csv('balanced.csv')"
   ]
  },
  {
   "cell_type": "code",
   "execution_count": 4,
   "metadata": {
    "ExecuteTime": {
     "end_time": "2022-01-31T06:54:38.336689Z",
     "start_time": "2022-01-31T06:54:38.312755Z"
    },
    "id": "S4VcKE4NJtBt",
    "outputId": "21b0295d-9783-44b7-918e-5b4f7e4806ff"
   },
   "outputs": [
    {
     "data": {
      "text/html": [
       "<div>\n",
       "<style scoped>\n",
       "    .dataframe tbody tr th:only-of-type {\n",
       "        vertical-align: middle;\n",
       "    }\n",
       "\n",
       "    .dataframe tbody tr th {\n",
       "        vertical-align: top;\n",
       "    }\n",
       "\n",
       "    .dataframe thead th {\n",
       "        text-align: right;\n",
       "    }\n",
       "</style>\n",
       "<table border=\"1\" class=\"dataframe\">\n",
       "  <thead>\n",
       "    <tr style=\"text-align: right;\">\n",
       "      <th></th>\n",
       "      <th>title</th>\n",
       "      <th>rating</th>\n",
       "      <th>body</th>\n",
       "      <th>y</th>\n",
       "      <th>cleaned_reviews</th>\n",
       "      <th>classes</th>\n",
       "      <th>cleaned_reviews_1</th>\n",
       "      <th>polarity</th>\n",
       "      <th>polarity_class</th>\n",
       "    </tr>\n",
       "  </thead>\n",
       "  <tbody>\n",
       "    <tr>\n",
       "      <th>0</th>\n",
       "      <td>Unstable for large books</td>\n",
       "      <td>1</td>\n",
       "      <td>this calls for less than 20 lbs and a max dept...</td>\n",
       "      <td>0</td>\n",
       "      <td>call less lb max depth book book lb less see s...</td>\n",
       "      <td>bad</td>\n",
       "      <td>['max', 'depth', 'book', 'book', 'signific', '...</td>\n",
       "      <td>-0.055556</td>\n",
       "      <td>negative</td>\n",
       "    </tr>\n",
       "    <tr>\n",
       "      <th>1</th>\n",
       "      <td>Get the large set</td>\n",
       "      <td>3</td>\n",
       "      <td>go ahead and buy the large set the small set o...</td>\n",
       "      <td>1</td>\n",
       "      <td>go ahead buy larg set small set paperback imoi...</td>\n",
       "      <td>moderate</td>\n",
       "      <td>['ahead', 'buy', 'larg', 'set', 'small', 'set'...</td>\n",
       "      <td>-0.300000</td>\n",
       "      <td>negative</td>\n",
       "    </tr>\n",
       "    <tr>\n",
       "      <th>2</th>\n",
       "      <td>Measure your books before buying this</td>\n",
       "      <td>1</td>\n",
       "      <td>the bookholder platform on the large size book...</td>\n",
       "      <td>0</td>\n",
       "      <td>bookhold platform larg size bookshelf big stan...</td>\n",
       "      <td>bad</td>\n",
       "      <td>['bookhold', 'platform', 'larg', 'size', 'book...</td>\n",
       "      <td>0.225000</td>\n",
       "      <td>positive</td>\n",
       "    </tr>\n",
       "    <tr>\n",
       "      <th>3</th>\n",
       "      <td>WILL NOT FIT NORMAL HARDCOVER BOOKS!!</td>\n",
       "      <td>2</td>\n",
       "      <td>be forewarned these shelves do not fit a stand...</td>\n",
       "      <td>0</td>\n",
       "      <td>forewarn shelv fit standard hardcov book even ...</td>\n",
       "      <td>bad</td>\n",
       "      <td>['forewarn', 'shelv', 'fit', 'standard', 'hard...</td>\n",
       "      <td>0.165152</td>\n",
       "      <td>positive</td>\n",
       "    </tr>\n",
       "    <tr>\n",
       "      <th>4</th>\n",
       "      <td>Disappointed</td>\n",
       "      <td>2</td>\n",
       "      <td>i was so excited when buying this but after ha...</td>\n",
       "      <td>0</td>\n",
       "      <td>excit buy hang place son book disappoint suppo...</td>\n",
       "      <td>bad</td>\n",
       "      <td>['excit', 'buy', 'hang', 'place', 'son', 'book...</td>\n",
       "      <td>0.200000</td>\n",
       "      <td>positive</td>\n",
       "    </tr>\n",
       "    <tr>\n",
       "      <th>...</th>\n",
       "      <td>...</td>\n",
       "      <td>...</td>\n",
       "      <td>...</td>\n",
       "      <td>...</td>\n",
       "      <td>...</td>\n",
       "      <td>...</td>\n",
       "      <td>...</td>\n",
       "      <td>...</td>\n",
       "      <td>...</td>\n",
       "    </tr>\n",
       "    <tr>\n",
       "      <th>200</th>\n",
       "      <td>Five Stars</td>\n",
       "      <td>5</td>\n",
       "      <td>easy to install looks great</td>\n",
       "      <td>2</td>\n",
       "      <td>easi instal look great</td>\n",
       "      <td>good</td>\n",
       "      <td>['easi', 'instal', 'look', 'great']</td>\n",
       "      <td>0.800000</td>\n",
       "      <td>positive</td>\n",
       "    </tr>\n",
       "    <tr>\n",
       "      <th>201</th>\n",
       "      <td>Four Stars</td>\n",
       "      <td>4</td>\n",
       "      <td>unusual and a great accent prop</td>\n",
       "      <td>2</td>\n",
       "      <td>unusu great accent prop</td>\n",
       "      <td>good</td>\n",
       "      <td>['unusu', 'great', 'accent', 'prop']</td>\n",
       "      <td>0.800000</td>\n",
       "      <td>positive</td>\n",
       "    </tr>\n",
       "    <tr>\n",
       "      <th>202</th>\n",
       "      <td>Were very easy to install even though instruct...</td>\n",
       "      <td>5</td>\n",
       "      <td>exactly as described and shown in the photos w...</td>\n",
       "      <td>2</td>\n",
       "      <td>exactli describ shown photo easi instal even t...</td>\n",
       "      <td>good</td>\n",
       "      <td>['exactli', 'describ', 'show', 'photo', 'easi'...</td>\n",
       "      <td>0.800000</td>\n",
       "      <td>positive</td>\n",
       "    </tr>\n",
       "    <tr>\n",
       "      <th>203</th>\n",
       "      <td>great decorative addition</td>\n",
       "      <td>5</td>\n",
       "      <td>these look great</td>\n",
       "      <td>2</td>\n",
       "      <td>look great</td>\n",
       "      <td>good</td>\n",
       "      <td>['look', 'great']</td>\n",
       "      <td>0.800000</td>\n",
       "      <td>positive</td>\n",
       "    </tr>\n",
       "    <tr>\n",
       "      <th>204</th>\n",
       "      <td>Five Stars</td>\n",
       "      <td>5</td>\n",
       "      <td>works great</td>\n",
       "      <td>2</td>\n",
       "      <td>work great</td>\n",
       "      <td>good</td>\n",
       "      <td>['work', 'great']</td>\n",
       "      <td>0.800000</td>\n",
       "      <td>positive</td>\n",
       "    </tr>\n",
       "  </tbody>\n",
       "</table>\n",
       "<p>205 rows × 9 columns</p>\n",
       "</div>"
      ],
      "text/plain": [
       "                                                 title  rating  \\\n",
       "0                             Unstable for large books       1   \n",
       "1                                    Get the large set       3   \n",
       "2                Measure your books before buying this       1   \n",
       "3                WILL NOT FIT NORMAL HARDCOVER BOOKS!!       2   \n",
       "4                                         Disappointed       2   \n",
       "..                                                 ...     ...   \n",
       "200                                         Five Stars       5   \n",
       "201                                         Four Stars       4   \n",
       "202  Were very easy to install even though instruct...       5   \n",
       "203                          great decorative addition       5   \n",
       "204                                         Five Stars       5   \n",
       "\n",
       "                                                  body  y  \\\n",
       "0    this calls for less than 20 lbs and a max dept...  0   \n",
       "1    go ahead and buy the large set the small set o...  1   \n",
       "2    the bookholder platform on the large size book...  0   \n",
       "3    be forewarned these shelves do not fit a stand...  0   \n",
       "4    i was so excited when buying this but after ha...  0   \n",
       "..                                                 ... ..   \n",
       "200                        easy to install looks great  2   \n",
       "201                    unusual and a great accent prop  2   \n",
       "202  exactly as described and shown in the photos w...  2   \n",
       "203                                   these look great  2   \n",
       "204                                        works great  2   \n",
       "\n",
       "                                       cleaned_reviews   classes  \\\n",
       "0    call less lb max depth book book lb less see s...       bad   \n",
       "1    go ahead buy larg set small set paperback imoi...  moderate   \n",
       "2    bookhold platform larg size bookshelf big stan...       bad   \n",
       "3    forewarn shelv fit standard hardcov book even ...       bad   \n",
       "4    excit buy hang place son book disappoint suppo...       bad   \n",
       "..                                                 ...       ...   \n",
       "200                             easi instal look great      good   \n",
       "201                            unusu great accent prop      good   \n",
       "202  exactli describ shown photo easi instal even t...      good   \n",
       "203                                         look great      good   \n",
       "204                                         work great      good   \n",
       "\n",
       "                                     cleaned_reviews_1  polarity  \\\n",
       "0    ['max', 'depth', 'book', 'book', 'signific', '... -0.055556   \n",
       "1    ['ahead', 'buy', 'larg', 'set', 'small', 'set'... -0.300000   \n",
       "2    ['bookhold', 'platform', 'larg', 'size', 'book...  0.225000   \n",
       "3    ['forewarn', 'shelv', 'fit', 'standard', 'hard...  0.165152   \n",
       "4    ['excit', 'buy', 'hang', 'place', 'son', 'book...  0.200000   \n",
       "..                                                 ...       ...   \n",
       "200                ['easi', 'instal', 'look', 'great']  0.800000   \n",
       "201               ['unusu', 'great', 'accent', 'prop']  0.800000   \n",
       "202  ['exactli', 'describ', 'show', 'photo', 'easi'...  0.800000   \n",
       "203                                  ['look', 'great']  0.800000   \n",
       "204                                  ['work', 'great']  0.800000   \n",
       "\n",
       "    polarity_class  \n",
       "0         negative  \n",
       "1         negative  \n",
       "2         positive  \n",
       "3         positive  \n",
       "4         positive  \n",
       "..             ...  \n",
       "200       positive  \n",
       "201       positive  \n",
       "202       positive  \n",
       "203       positive  \n",
       "204       positive  \n",
       "\n",
       "[205 rows x 9 columns]"
      ]
     },
     "execution_count": 4,
     "metadata": {},
     "output_type": "execute_result"
    }
   ],
   "source": [
    "reviews"
   ]
  },
  {
   "cell_type": "code",
   "execution_count": 5,
   "metadata": {
    "ExecuteTime": {
     "end_time": "2022-01-31T06:54:41.364413Z",
     "start_time": "2022-01-31T06:54:41.266863Z"
    },
    "id": "VCJgDvruJtBt",
    "outputId": "336e7ed2-fa15-4c85-a7ba-2f91bd51526b"
   },
   "outputs": [
    {
     "data": {
      "text/plain": [
       "<matplotlib.axes._subplots.AxesSubplot at 0x13b9a0ec460>"
      ]
     },
     "execution_count": 5,
     "metadata": {},
     "output_type": "execute_result"
    },
    {
     "data": {
      "image/png": "[encoded data removed]",
      "text/plain": [
       "<Figure size 432x288 with 1 Axes>"
      ]
     },
     "metadata": {
      "needs_background": "light"
     },
     "output_type": "display_data"
    }
   ],
   "source": [
    "sns.countplot(x=reviews['classes'], palette='GnBu_r')"
   ]
  },
  {
   "cell_type": "code",
   "execution_count": 6,
   "metadata": {
    "ExecuteTime": {
     "end_time": "2022-01-31T06:54:43.169136Z",
     "start_time": "2022-01-31T06:54:43.159163Z"
    },
    "id": "OVCiqLvAJtBu",
    "outputId": "3ed46b68-0267-4d43-a935-552eb093a0c1"
   },
   "outputs": [
    {
     "data": {
      "text/plain": [
       "good        79\n",
       "bad         68\n",
       "moderate    58\n",
       "Name: classes, dtype: int64"
      ]
     },
     "execution_count": 6,
     "metadata": {},
     "output_type": "execute_result"
    }
   ],
   "source": [
    "reviews['classes'].value_counts()"
   ]
  },
  {
   "cell_type": "code",
   "execution_count": 7,
   "metadata": {
    "ExecuteTime": {
     "end_time": "2022-01-31T06:54:45.927526Z",
     "start_time": "2022-01-31T06:54:45.911945Z"
    },
    "id": "kPZDtlFhJtBu"
   },
   "outputs": [],
   "source": [
    "# performance mesurement\n",
    "\n",
    "def model_performane(y_test, y_pred):\n",
    "    print(confusion_matrix(y_test, y_pred))\n",
    "    print(classification_report(y_test, y_pred))"
   ]
  },
  {
   "cell_type": "code",
   "execution_count": 9,
   "metadata": {
    "ExecuteTime": {
     "end_time": "2022-01-31T06:57:32.684786Z",
     "start_time": "2022-01-31T06:57:32.669825Z"
    },
    "id": "XYLbk7mwJtBv"
   },
   "outputs": [],
   "source": [
    "corpus = reviews['cleaned_reviews']"
   ]
  },
  {
   "cell_type": "code",
   "execution_count": 13,
   "metadata": {
    "ExecuteTime": {
     "end_time": "2022-01-31T09:10:16.915717Z",
     "start_time": "2022-01-31T09:10:16.890785Z"
    },
    "id": "4m08fc1RJtBv"
   },
   "outputs": [
    {
     "data": {
      "text/plain": [
       "array(['bad', 'moderate', 'bad', 'bad', 'bad', 'bad', 'bad', 'bad', 'bad',\n",
       "       'moderate', 'bad', 'bad', 'bad', 'bad', 'moderate', 'moderate',\n",
       "       'moderate', 'moderate', 'bad', 'bad', 'moderate', 'moderate',\n",
       "       'moderate', 'bad', 'bad', 'moderate', 'bad', 'moderate',\n",
       "       'moderate', 'moderate', 'moderate', 'bad', 'moderate', 'bad',\n",
       "       'moderate', 'bad', 'moderate', 'bad', 'bad', 'bad', 'bad',\n",
       "       'moderate', 'moderate', 'bad', 'bad', 'bad', 'moderate',\n",
       "       'moderate', 'bad', 'moderate', 'bad', 'moderate', 'bad', 'bad',\n",
       "       'moderate', 'moderate', 'bad', 'bad', 'moderate', 'moderate',\n",
       "       'moderate', 'moderate', 'moderate', 'moderate', 'bad', 'bad',\n",
       "       'moderate', 'moderate', 'bad', 'moderate', 'bad', 'bad', 'bad',\n",
       "       'moderate', 'bad', 'bad', 'bad', 'bad', 'moderate', 'moderate',\n",
       "       'bad', 'bad', 'bad', 'moderate', 'bad', 'moderate', 'moderate',\n",
       "       'moderate', 'bad', 'bad', 'moderate', 'moderate', 'bad', 'bad',\n",
       "       'bad', 'bad', 'bad', 'moderate', 'moderate', 'bad', 'moderate',\n",
       "       'bad', 'moderate', 'bad', 'bad', 'moderate', 'moderate', 'bad',\n",
       "       'moderate', 'bad', 'bad', 'bad', 'bad', 'bad', 'moderate', 'bad',\n",
       "       'bad', 'moderate', 'moderate', 'moderate', 'moderate', 'bad',\n",
       "       'moderate', 'bad', 'moderate', 'good', 'good', 'good', 'good',\n",
       "       'good', 'good', 'good', 'good', 'good', 'good', 'good', 'good',\n",
       "       'good', 'good', 'moderate', 'good', 'good', 'good', 'good', 'good',\n",
       "       'good', 'good', 'good', 'good', 'good', 'good', 'good', 'good',\n",
       "       'good', 'good', 'good', 'good', 'good', 'good', 'good', 'good',\n",
       "       'good', 'good', 'good', 'good', 'good', 'good', 'good', 'good',\n",
       "       'good', 'good', 'good', 'good', 'good', 'good', 'good', 'good',\n",
       "       'good', 'good', 'good', 'good', 'good', 'good', 'good', 'good',\n",
       "       'good', 'good', 'good', 'good', 'good', 'good', 'good', 'good',\n",
       "       'good', 'good', 'good', 'good', 'good', 'good', 'good', 'good',\n",
       "       'good', 'good', 'good', 'good'], dtype=object)"
      ]
     },
     "execution_count": 13,
     "metadata": {},
     "output_type": "execute_result"
    }
   ],
   "source": [
    "# convert text into vectors\n",
    "cv = CountVectorizer(max_features = 2000)\n",
    "\n",
    "x = cv.fit_transform(corpus).toarray()\n",
    "y = reviews.loc[:, 'classes'].values\n",
    "y"
   ]
  },
  {
   "cell_type": "code",
   "execution_count": null,
   "metadata": {
    "id": "9N8lz4c2JtBw"
   },
   "outputs": [],
   "source": [
    "x_train, x_test, y_train, y_test = train_test_split(x, y, test_size = 0.30, random_state = 0)"
   ]
  },
  {
   "cell_type": "code",
   "execution_count": null,
   "metadata": {
    "id": "LlvVYyrTJtBw",
    "outputId": "e31edcba-2da6-4e43-cdc0-17a732baf6eb"
   },
   "outputs": [
    {
     "data": {
      "text/plain": [
       "(143, 909)"
      ]
     },
     "execution_count": 135,
     "metadata": {},
     "output_type": "execute_result"
    }
   ],
   "source": [
    "x_train.shape"
   ]
  },
  {
   "cell_type": "markdown",
   "metadata": {
    "id": "AgUGw_97JtBx"
   },
   "source": [
    "### Naive Bayes"
   ]
  },
  {
   "cell_type": "code",
   "execution_count": null,
   "metadata": {
    "id": "Tup2B4ybJtBx",
    "outputId": "14ce5e08-9ee6-4952-ff00-7723f6632a7c"
   },
   "outputs": [
    {
     "data": {
      "text/plain": [
       "GaussianNB()"
      ]
     },
     "execution_count": 136,
     "metadata": {},
     "output_type": "execute_result"
    }
   ],
   "source": [
    "from sklearn.naive_bayes import GaussianNB, MultinomialNB\n",
    "\n",
    "gaussNB_classifier = GaussianNB()\n",
    "gaussNB_classifier.fit(x_train, y_train)"
   ]
  },
  {
   "cell_type": "code",
   "execution_count": null,
   "metadata": {
    "id": "gVUTuXKPJtBy"
   },
   "outputs": [],
   "source": [
    "y_pred = gaussNB_classifier.predict(x_test)"
   ]
  },
  {
   "cell_type": "code",
   "execution_count": null,
   "metadata": {
    "id": "b9XrvA1ZJtBy",
    "outputId": "91cbf9c1-2d08-4181-eb5f-d4d58271c1e5"
   },
   "outputs": [
    {
     "name": "stdout",
     "output_type": "stream",
     "text": [
      "[[12  3  8]\n",
      " [ 3 21  4]\n",
      " [ 1  1  9]]\n",
      "              precision    recall  f1-score   support\n",
      "\n",
      "         bad       0.75      0.52      0.62        23\n",
      "        good       0.84      0.75      0.79        28\n",
      "    moderate       0.43      0.82      0.56        11\n",
      "\n",
      "    accuracy                           0.68        62\n",
      "   macro avg       0.67      0.70      0.66        62\n",
      "weighted avg       0.73      0.68      0.69        62\n",
      "\n"
     ]
    }
   ],
   "source": [
    "model_performane(y_test,y_pred)"
   ]
  },
  {
   "cell_type": "code",
   "execution_count": null,
   "metadata": {
    "id": "eBOW9-EyJtBy",
    "outputId": "9527b969-b309-4a34-d92f-9827e20c44cf"
   },
   "outputs": [
    {
     "data": {
      "text/plain": [
       "<AxesSubplot:ylabel='count'>"
      ]
     },
     "execution_count": 139,
     "metadata": {},
     "output_type": "execute_result"
    },
    {
     "data": {
      "image/png": "[encoded data removed]",
      "text/plain": [
       "<Figure size 648x288 with 2 Axes>"
      ]
     },
     "metadata": {
      "needs_background": "light"
     },
     "output_type": "display_data"
    }
   ],
   "source": [
    "f, axs = plt.subplots(1,2, figsize=(9,4))\n",
    "f.suptitle(\"Predicted VS Actual\")\n",
    "\n",
    "sns.countplot(x=y_pred, ax=axs[0], palette='Blues') #countplot for predicted values\n",
    "sns.countplot(x=y_test, ax=axs[1], palette='RdPu') # countplot for actual values"
   ]
  },
  {
   "cell_type": "markdown",
   "metadata": {
    "id": "gV9Upi7KJtBz"
   },
   "source": [
    "#### Model 2"
   ]
  },
  {
   "cell_type": "code",
   "execution_count": null,
   "metadata": {
    "id": "bzvtA-nkJtBz",
    "outputId": "1b8d9ef4-f45b-4480-e167-ca375b757fb5"
   },
   "outputs": [
    {
     "name": "stdout",
     "output_type": "stream",
     "text": [
      "[[11  1 11]\n",
      " [ 1 27  0]\n",
      " [ 0  2  9]]\n",
      "              precision    recall  f1-score   support\n",
      "\n",
      "         bad       0.92      0.48      0.63        23\n",
      "        good       0.90      0.96      0.93        28\n",
      "    moderate       0.45      0.82      0.58        11\n",
      "\n",
      "    accuracy                           0.76        62\n",
      "   macro avg       0.76      0.75      0.71        62\n",
      "weighted avg       0.83      0.76      0.76        62\n",
      "\n"
     ]
    }
   ],
   "source": [
    "multiNB_classifier = MultinomialNB()\n",
    "multiNB_classifier.fit(x_train, y_train)\n",
    "\n",
    "y_predNB = multiNB_classifier.predict(x_test)\n",
    "model_performane(y_test,y_predNB)"
   ]
  },
  {
   "cell_type": "code",
   "execution_count": null,
   "metadata": {
    "id": "JWZRW5iJJtBz",
    "outputId": "c87f4d83-9142-4294-918b-c8bd1317cd2f"
   },
   "outputs": [
    {
     "data": {
      "image/png": "[encoded data removed]",
      "text/plain": [
       "<Figure size 648x288 with 2 Axes>"
      ]
     },
     "metadata": {
      "needs_background": "light"
     },
     "output_type": "display_data"
    }
   ],
   "source": [
    "f, axs = plt.subplots(1,2, figsize=(9,4))\n",
    "f.suptitle(\"Predicted VS Actual\")\n",
    "\n",
    "sns.countplot(x=y_predNB, ax=axs[0], palette='GnBu_r') #countplot for predicted values\n",
    "sns.countplot(x=y_test, ax=axs[1], palette='RdPu') # countplot for actual values\n",
    "f.tight_layout()"
   ]
  },
  {
   "cell_type": "markdown",
   "metadata": {
    "id": "lV2amNiVJtB0"
   },
   "source": [
    "### Random Forest Classifier"
   ]
  },
  {
   "cell_type": "code",
   "execution_count": null,
   "metadata": {
    "id": "lwpGKRCDJtB0"
   },
   "outputs": [],
   "source": [
    "from sklearn.ensemble import RandomForestClassifier"
   ]
  },
  {
   "cell_type": "code",
   "execution_count": null,
   "metadata": {
    "id": "P-WgeqM4JtB0",
    "outputId": "de58de4d-b87f-4c19-cf47-5c38033c7ef1"
   },
   "outputs": [
    {
     "data": {
      "text/plain": [
       "RandomForestClassifier(n_estimators=10, random_state=0)"
      ]
     },
     "execution_count": 143,
     "metadata": {},
     "output_type": "execute_result"
    }
   ],
   "source": [
    "RFclassifier = RandomForestClassifier(n_estimators=10, criterion='gini', random_state=0)\n",
    "RFclassifier.fit(x_train, y_train)"
   ]
  },
  {
   "cell_type": "code",
   "execution_count": null,
   "metadata": {
    "id": "XsgHhIuwJtB0"
   },
   "outputs": [],
   "source": [
    "RFy_pred = RFclassifier.predict(x_test)"
   ]
  },
  {
   "cell_type": "code",
   "execution_count": null,
   "metadata": {
    "id": "MTzBmH_vJtB0",
    "outputId": "2354ff61-95cf-4403-c125-0e5fe0a93c1e"
   },
   "outputs": [
    {
     "name": "stdout",
     "output_type": "stream",
     "text": [
      "[[13  5  5]\n",
      " [ 1 27  0]\n",
      " [ 8  1  2]]\n",
      "              precision    recall  f1-score   support\n",
      "\n",
      "         bad       0.59      0.57      0.58        23\n",
      "        good       0.82      0.96      0.89        28\n",
      "    moderate       0.29      0.18      0.22        11\n",
      "\n",
      "    accuracy                           0.68        62\n",
      "   macro avg       0.56      0.57      0.56        62\n",
      "weighted avg       0.64      0.68      0.65        62\n",
      "\n"
     ]
    }
   ],
   "source": [
    "model_performane(y_test,RFy_pred)"
   ]
  },
  {
   "cell_type": "code",
   "execution_count": null,
   "metadata": {
    "id": "D_NkP4PtJtB1",
    "outputId": "58119618-a4d6-4e3b-b83c-878dd77c4db3"
   },
   "outputs": [
    {
     "data": {
      "image/png": "[encoded data removed]",
      "text/plain": [
       "<Figure size 648x288 with 2 Axes>"
      ]
     },
     "metadata": {
      "needs_background": "light"
     },
     "output_type": "display_data"
    }
   ],
   "source": [
    "f, axs = plt.subplots(1,2, figsize=(9,4))\n",
    "f.suptitle(\"Predicted VS Actual\")\n",
    "\n",
    "sns.countplot(x=RFy_pred, ax=axs[0], palette='Blues') #countplot for predicted values\n",
    "sns.countplot(x=y_test, ax=axs[1], palette='RdPu') # countplot for actual values\n",
    "f.tight_layout()"
   ]
  },
  {
   "cell_type": "markdown",
   "metadata": {
    "id": "8oXfVgWEJtB1"
   },
   "source": [
    "### Logistic Regression"
   ]
  },
  {
   "cell_type": "code",
   "execution_count": null,
   "metadata": {
    "id": "LzZ-g8mgJtB1"
   },
   "outputs": [],
   "source": [
    "from sklearn.linear_model import LogisticRegression"
   ]
  },
  {
   "cell_type": "code",
   "execution_count": null,
   "metadata": {
    "id": "LRBJoAtbJtB1",
    "outputId": "83c45f0d-f5fa-461f-bed9-704054147a18"
   },
   "outputs": [
    {
     "data": {
      "text/plain": [
       "LogisticRegression()"
      ]
     },
     "execution_count": 148,
     "metadata": {},
     "output_type": "execute_result"
    }
   ],
   "source": [
    "logisticreg = LogisticRegression()\n",
    "logisticreg.fit(x_train, y_train)"
   ]
  },
  {
   "cell_type": "code",
   "execution_count": null,
   "metadata": {
    "id": "uhajXg9xJtB1"
   },
   "outputs": [],
   "source": [
    "logisticreg_pred = logisticreg.predict(x_test)"
   ]
  },
  {
   "cell_type": "code",
   "execution_count": null,
   "metadata": {
    "id": "Kxsrt-mIJtB2",
    "outputId": "5931efaf-bbe7-4817-e927-f39e4bd46dd4"
   },
   "outputs": [
    {
     "name": "stdout",
     "output_type": "stream",
     "text": [
      "[[15  1  7]\n",
      " [ 2 26  0]\n",
      " [ 3  0  8]]\n",
      "              precision    recall  f1-score   support\n",
      "\n",
      "         bad       0.75      0.65      0.70        23\n",
      "        good       0.96      0.93      0.95        28\n",
      "    moderate       0.53      0.73      0.62        11\n",
      "\n",
      "    accuracy                           0.79        62\n",
      "   macro avg       0.75      0.77      0.75        62\n",
      "weighted avg       0.81      0.79      0.79        62\n",
      "\n"
     ]
    }
   ],
   "source": [
    "model_performane(y_test,logisticreg_pred)"
   ]
  },
  {
   "cell_type": "code",
   "execution_count": null,
   "metadata": {
    "id": "zDuEQNcMJtB2",
    "outputId": "84d1f5c6-f6e0-4216-d69b-59cebe6c92be"
   },
   "outputs": [
    {
     "data": {
      "image/png": "[encoded data removed]",
      "text/plain": [
       "<Figure size 648x288 with 2 Axes>"
      ]
     },
     "metadata": {
      "needs_background": "light"
     },
     "output_type": "display_data"
    }
   ],
   "source": [
    "f, axs = plt.subplots(1,2, figsize=(9,4))\n",
    "f.suptitle(\"Predicted VS Actual\")\n",
    "\n",
    "sns.countplot(x=logisticreg_pred, ax=axs[0], palette='Blues') #countplot for predicted values\n",
    "sns.countplot(x=y_test, ax=axs[1], palette='RdPu') # countplot for actual values\n",
    "f.tight_layout()"
   ]
  },
  {
   "cell_type": "markdown",
   "metadata": {
    "id": "rVt3Baz6JtB2"
   },
   "source": [
    "### LGBM"
   ]
  },
  {
   "cell_type": "code",
   "execution_count": null,
   "metadata": {
    "id": "9L4cqbMVJtB2"
   },
   "outputs": [],
   "source": [
    "from lightgbm import LGBMClassifier"
   ]
  },
  {
   "cell_type": "code",
   "execution_count": null,
   "metadata": {
    "id": "Fpt3G6cYJtB2",
    "outputId": "d6d3d768-88f4-4a37-de0f-c1e024517fba"
   },
   "outputs": [
    {
     "data": {
      "text/plain": [
       "LGBMClassifier()"
      ]
     },
     "execution_count": 153,
     "metadata": {},
     "output_type": "execute_result"
    }
   ],
   "source": [
    "lgb = LGBMClassifier()\n",
    "lgb.fit(x_train, y_train)"
   ]
  },
  {
   "cell_type": "code",
   "execution_count": null,
   "metadata": {
    "id": "4nZN3oo7JtB2"
   },
   "outputs": [],
   "source": [
    "lgb_pred = lgb.predict(x_test)"
   ]
  },
  {
   "cell_type": "code",
   "execution_count": null,
   "metadata": {
    "id": "ooGizQ8QJtB2",
    "outputId": "c7d74d07-2989-47b9-a061-334d2112534b"
   },
   "outputs": [
    {
     "name": "stdout",
     "output_type": "stream",
     "text": [
      "[[12  1 10]\n",
      " [ 7 17  4]\n",
      " [ 5  0  6]]\n",
      "              precision    recall  f1-score   support\n",
      "\n",
      "         bad       0.50      0.52      0.51        23\n",
      "        good       0.94      0.61      0.74        28\n",
      "    moderate       0.30      0.55      0.39        11\n",
      "\n",
      "    accuracy                           0.56        62\n",
      "   macro avg       0.58      0.56      0.55        62\n",
      "weighted avg       0.67      0.56      0.59        62\n",
      "\n"
     ]
    }
   ],
   "source": [
    "model_performane(y_test,lgb_pred)"
   ]
  },
  {
   "cell_type": "code",
   "execution_count": null,
   "metadata": {
    "id": "tRjaj9BAJtB3"
   },
   "outputs": [],
   "source": [
    "from xgboost import XGBRFClassifier"
   ]
  },
  {
   "cell_type": "code",
   "execution_count": null,
   "metadata": {
    "id": "RLGVLWFEJtB3",
    "outputId": "05ff7d3d-7a7b-479c-bc39-5d28bc49d458"
   },
   "outputs": [
    {
     "name": "stderr",
     "output_type": "stream",
     "text": [
      "C:\\Users\\shiva\\anaconda3\\envs\\tf\\lib\\site-packages\\xgboost\\sklearn.py:1224: UserWarning: The use of label encoder in XGBClassifier is deprecated and will be removed in a future release. To remove this warning, do the following: 1) Pass option use_label_encoder=False when constructing XGBClassifier object; and 2) Encode your labels (y) as integers starting with 0, i.e. 0, 1, 2, ..., [num_class - 1].\n",
      "  warnings.warn(label_encoder_deprecation_msg, UserWarning)\n"
     ]
    },
    {
     "name": "stdout",
     "output_type": "stream",
     "text": [
      "[23:31:41] WARNING: C:/Users/Administrator/workspace/xgboost-win64_release_1.5.0/src/learner.cc:1115: Starting in XGBoost 1.3.0, the default evaluation metric used with the objective 'multi:softprob' was changed from 'merror' to 'mlogloss'. Explicitly set eval_metric if you'd like to restore the old behavior.\n"
     ]
    },
    {
     "data": {
      "text/plain": [
       "XGBRFClassifier(base_score=0.5, booster='gbtree', colsample_bylevel=1,\n",
       "                colsample_bytree=1, enable_categorical=False, gamma=0,\n",
       "                gpu_id=-1, importance_type=None, interaction_constraints='',\n",
       "                max_delta_step=0, max_depth=6, min_child_weight=1, missing=nan,\n",
       "                monotone_constraints='()', n_estimators=100, n_jobs=4,\n",
       "                num_parallel_tree=100, objective='multi:softprob',\n",
       "                predictor='auto', random_state=0, reg_alpha=0,\n",
       "                scale_pos_weight=None, tree_method='exact',\n",
       "                validate_parameters=1, verbosity=None)"
      ]
     },
     "execution_count": 160,
     "metadata": {},
     "output_type": "execute_result"
    }
   ],
   "source": [
    "xgb = XGBRFClassifier()\n",
    "xgb.fit(x_train, y_train)"
   ]
  },
  {
   "cell_type": "code",
   "execution_count": null,
   "metadata": {
    "id": "loUhOqmQJtB3"
   },
   "outputs": [],
   "source": [
    "xgb_pred = xgb.predict(x_test)"
   ]
  },
  {
   "cell_type": "code",
   "execution_count": null,
   "metadata": {
    "id": "yxwLjQzMJtB3",
    "outputId": "f8955ad2-a454-4334-e6ed-5de9ad212127"
   },
   "outputs": [
    {
     "name": "stdout",
     "output_type": "stream",
     "text": [
      "[[12  2  9]\n",
      " [ 2 26  0]\n",
      " [ 9  0  2]]\n",
      "              precision    recall  f1-score   support\n",
      "\n",
      "         bad       0.52      0.52      0.52        23\n",
      "        good       0.93      0.93      0.93        28\n",
      "    moderate       0.18      0.18      0.18        11\n",
      "\n",
      "    accuracy                           0.65        62\n",
      "   macro avg       0.54      0.54      0.54        62\n",
      "weighted avg       0.65      0.65      0.65        62\n",
      "\n"
     ]
    }
   ],
   "source": [
    "model_performane(y_test,xgb_pred)"
   ]
  },
  {
   "cell_type": "code",
   "execution_count": null,
   "metadata": {
    "id": "UsubX-t4JtB3"
   },
   "outputs": [],
   "source": [
    "from sklearn.ensemble import AdaBoostClassifier"
   ]
  },
  {
   "cell_type": "code",
   "execution_count": null,
   "metadata": {
    "id": "RlmVDWM4JtB3",
    "outputId": "a872ef0d-dade-4cc9-b094-2f26d76d4c15"
   },
   "outputs": [
    {
     "name": "stdout",
     "output_type": "stream",
     "text": [
      "[23:34:06] WARNING: C:/Users/Administrator/workspace/xgboost-win64_release_1.5.0/src/learner.cc:1115: Starting in XGBoost 1.3.0, the default evaluation metric used with the objective 'multi:softprob' was changed from 'merror' to 'mlogloss'. Explicitly set eval_metric if you'd like to restore the old behavior.\n"
     ]
    },
    {
     "data": {
      "text/plain": [
       "XGBRFClassifier(base_score=0.5, booster='gbtree', colsample_bylevel=1,\n",
       "                colsample_bytree=1, enable_categorical=False, gamma=0,\n",
       "                gpu_id=-1, importance_type=None, interaction_constraints='',\n",
       "                max_delta_step=0, max_depth=6, min_child_weight=1, missing=nan,\n",
       "                monotone_constraints='()', n_estimators=100, n_jobs=4,\n",
       "                num_parallel_tree=100, objective='multi:softprob',\n",
       "                predictor='auto', random_state=0, reg_alpha=0,\n",
       "                scale_pos_weight=None, tree_method='exact',\n",
       "                validate_parameters=1, verbosity=None)"
      ]
     },
     "execution_count": 167,
     "metadata": {},
     "output_type": "execute_result"
    }
   ],
   "source": [
    "adaboost = XGBRFClassifier()\n",
    "adaboost.fit(x_train, y_train)"
   ]
  },
  {
   "cell_type": "code",
   "execution_count": null,
   "metadata": {
    "id": "2k4PMOakJtB4"
   },
   "outputs": [],
   "source": [
    "adaboost_pred = adaboost.predict(x_test)"
   ]
  },
  {
   "cell_type": "code",
   "execution_count": null,
   "metadata": {
    "id": "cUGIzBRTJtB4",
    "outputId": "3a62bbab-5011-41ef-8688-2c865771e241"
   },
   "outputs": [
    {
     "name": "stdout",
     "output_type": "stream",
     "text": [
      "[[12  2  9]\n",
      " [ 2 26  0]\n",
      " [ 9  0  2]]\n",
      "              precision    recall  f1-score   support\n",
      "\n",
      "         bad       0.52      0.52      0.52        23\n",
      "        good       0.93      0.93      0.93        28\n",
      "    moderate       0.18      0.18      0.18        11\n",
      "\n",
      "    accuracy                           0.65        62\n",
      "   macro avg       0.54      0.54      0.54        62\n",
      "weighted avg       0.65      0.65      0.65        62\n",
      "\n"
     ]
    }
   ],
   "source": [
    "model_performane(y_test,adaboost_pred)"
   ]
  },
  {
   "cell_type": "markdown",
   "metadata": {
    "id": "hVpwb2NmJtB4"
   },
   "source": [
    "### SVM"
   ]
  },
  {
   "cell_type": "code",
   "execution_count": null,
   "metadata": {
    "id": "lgMHpp2IJtB4",
    "outputId": "0d14b8a3-ca84-4030-dcc2-8ea0a84fd88e",
    "scrolled": true
   },
   "outputs": [
    {
     "name": "stdout",
     "output_type": "stream",
     "text": [
      "[[15  1  7]\n",
      " [ 2 26  0]\n",
      " [ 7  0  4]]\n",
      "              precision    recall  f1-score   support\n",
      "\n",
      "         bad       0.62      0.65      0.64        23\n",
      "        good       0.96      0.93      0.95        28\n",
      "    moderate       0.36      0.36      0.36        11\n",
      "\n",
      "    accuracy                           0.73        62\n",
      "   macro avg       0.65      0.65      0.65        62\n",
      "weighted avg       0.73      0.73      0.73        62\n",
      "\n"
     ]
    }
   ],
   "source": [
    "from sklearn.svm import SVC\n",
    "\n",
    "svc = SVC(C=100, kernel='rbf', gamma=0.001)\n",
    "svc.fit(x_train, y_train)\n",
    "\n",
    "svc_pred = svc.predict(x_test)\n",
    "\n",
    "model_performane(y_test, svc_pred)"
   ]
  },
  {
   "cell_type": "code",
   "execution_count": null,
   "metadata": {
    "id": "RiuyoHH6JtB4"
   },
   "outputs": [],
   "source": [
    "from sklearn.model_selection import GridSearchCV"
   ]
  },
  {
   "cell_type": "code",
   "execution_count": null,
   "metadata": {
    "id": "SFToNJ6VJtB4"
   },
   "outputs": [],
   "source": [
    "param_grid = {'C': [0.1, 1, 10, 100, 1000, 10000], 'gamma': [1,0.1,0.01,0.001,0.0001,0.00001], 'kernel': ['rbf']} "
   ]
  },
  {
   "cell_type": "code",
   "execution_count": null,
   "metadata": {
    "id": "-YiwDt_lJtB4"
   },
   "outputs": [],
   "source": [
    "grid  = GridSearchCV(SVC(), param_grid, refit=True, verbose=3)"
   ]
  },
  {
   "cell_type": "code",
   "execution_count": null,
   "metadata": {
    "id": "XisvROEzJtB4",
    "outputId": "55010282-6419-4af7-87e7-57b908e822a2"
   },
   "outputs": [
    {
     "name": "stdout",
     "output_type": "stream",
     "text": [
      "Fitting 5 folds for each of 36 candidates, totalling 180 fits\n",
      "[CV 1/5] END ........C=0.1, gamma=1, kernel=rbf;, score=0.345 total time=   0.0s\n",
      "[CV 2/5] END ........C=0.1, gamma=1, kernel=rbf;, score=0.345 total time=   0.0s\n",
      "[CV 3/5] END ........C=0.1, gamma=1, kernel=rbf;, score=0.379 total time=   0.0s\n",
      "[CV 4/5] END ........C=0.1, gamma=1, kernel=rbf;, score=0.357 total time=   0.0s\n",
      "[CV 5/5] END ........C=0.1, gamma=1, kernel=rbf;, score=0.357 total time=   0.0s\n",
      "[CV 1/5] END ......C=0.1, gamma=0.1, kernel=rbf;, score=0.379 total time=   0.0s\n",
      "[CV 2/5] END ......C=0.1, gamma=0.1, kernel=rbf;, score=0.345 total time=   0.0s\n",
      "[CV 3/5] END ......C=0.1, gamma=0.1, kernel=rbf;, score=0.448 total time=   0.0s\n",
      "[CV 4/5] END ......C=0.1, gamma=0.1, kernel=rbf;, score=0.357 total time=   0.0s\n",
      "[CV 5/5] END ......C=0.1, gamma=0.1, kernel=rbf;, score=0.357 total time=   0.0s\n",
      "[CV 1/5] END .....C=0.1, gamma=0.01, kernel=rbf;, score=0.345 total time=   0.0s\n",
      "[CV 2/5] END .....C=0.1, gamma=0.01, kernel=rbf;, score=0.345 total time=   0.0s\n",
      "[CV 3/5] END .....C=0.1, gamma=0.01, kernel=rbf;, score=0.379 total time=   0.0s\n",
      "[CV 4/5] END .....C=0.1, gamma=0.01, kernel=rbf;, score=0.357 total time=   0.0s\n",
      "[CV 5/5] END .....C=0.1, gamma=0.01, kernel=rbf;, score=0.357 total time=   0.0s\n",
      "[CV 1/5] END ....C=0.1, gamma=0.001, kernel=rbf;, score=0.345 total time=   0.0s\n",
      "[CV 2/5] END ....C=0.1, gamma=0.001, kernel=rbf;, score=0.345 total time=   0.0s\n",
      "[CV 3/5] END ....C=0.1, gamma=0.001, kernel=rbf;, score=0.379 total time=   0.0s\n",
      "[CV 4/5] END ....C=0.1, gamma=0.001, kernel=rbf;, score=0.357 total time=   0.0s\n",
      "[CV 5/5] END ....C=0.1, gamma=0.001, kernel=rbf;, score=0.357 total time=   0.0s\n",
      "[CV 1/5] END ...C=0.1, gamma=0.0001, kernel=rbf;, score=0.345 total time=   0.0s\n",
      "[CV 2/5] END ...C=0.1, gamma=0.0001, kernel=rbf;, score=0.345 total time=   0.0s\n",
      "[CV 3/5] END ...C=0.1, gamma=0.0001, kernel=rbf;, score=0.379 total time=   0.0s\n",
      "[CV 4/5] END ...C=0.1, gamma=0.0001, kernel=rbf;, score=0.357 total time=   0.0s\n",
      "[CV 5/5] END ...C=0.1, gamma=0.0001, kernel=rbf;, score=0.357 total time=   0.0s\n",
      "[CV 1/5] END ....C=0.1, gamma=1e-05, kernel=rbf;, score=0.345 total time=   0.0s\n",
      "[CV 2/5] END ....C=0.1, gamma=1e-05, kernel=rbf;, score=0.345 total time=   0.0s\n",
      "[CV 3/5] END ....C=0.1, gamma=1e-05, kernel=rbf;, score=0.379 total time=   0.0s\n",
      "[CV 4/5] END ....C=0.1, gamma=1e-05, kernel=rbf;, score=0.357 total time=   0.0s\n",
      "[CV 5/5] END ....C=0.1, gamma=1e-05, kernel=rbf;, score=0.357 total time=   0.0s\n",
      "[CV 1/5] END ..........C=1, gamma=1, kernel=rbf;, score=0.414 total time=   0.0s\n",
      "[CV 2/5] END ..........C=1, gamma=1, kernel=rbf;, score=0.414 total time=   0.0s\n",
      "[CV 3/5] END ..........C=1, gamma=1, kernel=rbf;, score=0.483 total time=   0.0s\n",
      "[CV 4/5] END ..........C=1, gamma=1, kernel=rbf;, score=0.321 total time=   0.0s\n",
      "[CV 5/5] END ..........C=1, gamma=1, kernel=rbf;, score=0.536 total time=   0.0s\n",
      "[CV 1/5] END ........C=1, gamma=0.1, kernel=rbf;, score=0.517 total time=   0.0s\n",
      "[CV 2/5] END ........C=1, gamma=0.1, kernel=rbf;, score=0.655 total time=   0.0s\n",
      "[CV 3/5] END ........C=1, gamma=0.1, kernel=rbf;, score=0.621 total time=   0.0s\n",
      "[CV 4/5] END ........C=1, gamma=0.1, kernel=rbf;, score=0.643 total time=   0.0s\n",
      "[CV 5/5] END ........C=1, gamma=0.1, kernel=rbf;, score=0.643 total time=   0.0s\n",
      "[CV 1/5] END .......C=1, gamma=0.01, kernel=rbf;, score=0.414 total time=   0.0s\n",
      "[CV 2/5] END .......C=1, gamma=0.01, kernel=rbf;, score=0.517 total time=   0.0s\n",
      "[CV 3/5] END .......C=1, gamma=0.01, kernel=rbf;, score=0.483 total time=   0.0s\n",
      "[CV 4/5] END .......C=1, gamma=0.01, kernel=rbf;, score=0.536 total time=   0.0s\n",
      "[CV 5/5] END .......C=1, gamma=0.01, kernel=rbf;, score=0.500 total time=   0.0s\n",
      "[CV 1/5] END ......C=1, gamma=0.001, kernel=rbf;, score=0.345 total time=   0.0s\n",
      "[CV 2/5] END ......C=1, gamma=0.001, kernel=rbf;, score=0.345 total time=   0.0s\n",
      "[CV 3/5] END ......C=1, gamma=0.001, kernel=rbf;, score=0.379 total time=   0.0s\n",
      "[CV 4/5] END ......C=1, gamma=0.001, kernel=rbf;, score=0.357 total time=   0.0s\n",
      "[CV 5/5] END ......C=1, gamma=0.001, kernel=rbf;, score=0.357 total time=   0.0s\n",
      "[CV 1/5] END .....C=1, gamma=0.0001, kernel=rbf;, score=0.345 total time=   0.0s\n",
      "[CV 2/5] END .....C=1, gamma=0.0001, kernel=rbf;, score=0.345 total time=   0.0s\n",
      "[CV 3/5] END .....C=1, gamma=0.0001, kernel=rbf;, score=0.379 total time=   0.0s\n",
      "[CV 4/5] END .....C=1, gamma=0.0001, kernel=rbf;, score=0.357 total time=   0.0s\n",
      "[CV 5/5] END .....C=1, gamma=0.0001, kernel=rbf;, score=0.357 total time=   0.0s\n",
      "[CV 1/5] END ......C=1, gamma=1e-05, kernel=rbf;, score=0.345 total time=   0.0s\n",
      "[CV 2/5] END ......C=1, gamma=1e-05, kernel=rbf;, score=0.345 total time=   0.0s\n",
      "[CV 3/5] END ......C=1, gamma=1e-05, kernel=rbf;, score=0.379 total time=   0.0s\n",
      "[CV 4/5] END ......C=1, gamma=1e-05, kernel=rbf;, score=0.357 total time=   0.0s\n",
      "[CV 5/5] END ......C=1, gamma=1e-05, kernel=rbf;, score=0.357 total time=   0.0s\n",
      "[CV 1/5] END .........C=10, gamma=1, kernel=rbf;, score=0.414 total time=   0.0s\n",
      "[CV 2/5] END .........C=10, gamma=1, kernel=rbf;, score=0.414 total time=   0.0s\n",
      "[CV 3/5] END .........C=10, gamma=1, kernel=rbf;, score=0.517 total time=   0.0s\n",
      "[CV 4/5] END .........C=10, gamma=1, kernel=rbf;, score=0.321 total time=   0.0s\n",
      "[CV 5/5] END .........C=10, gamma=1, kernel=rbf;, score=0.536 total time=   0.0s\n",
      "[CV 1/5] END .......C=10, gamma=0.1, kernel=rbf;, score=0.621 total time=   0.0s\n",
      "[CV 2/5] END .......C=10, gamma=0.1, kernel=rbf;, score=0.690 total time=   0.0s\n",
      "[CV 3/5] END .......C=10, gamma=0.1, kernel=rbf;, score=0.690 total time=   0.0s\n",
      "[CV 4/5] END .......C=10, gamma=0.1, kernel=rbf;, score=0.571 total time=   0.0s\n",
      "[CV 5/5] END .......C=10, gamma=0.1, kernel=rbf;, score=0.643 total time=   0.0s\n",
      "[CV 1/5] END ......C=10, gamma=0.01, kernel=rbf;, score=0.586 total time=   0.0s\n",
      "[CV 2/5] END ......C=10, gamma=0.01, kernel=rbf;, score=0.724 total time=   0.0s\n",
      "[CV 3/5] END ......C=10, gamma=0.01, kernel=rbf;, score=0.793 total time=   0.0s\n",
      "[CV 4/5] END ......C=10, gamma=0.01, kernel=rbf;, score=0.786 total time=   0.0s\n",
      "[CV 5/5] END ......C=10, gamma=0.01, kernel=rbf;, score=0.607 total time=   0.0s\n",
      "[CV 1/5] END .....C=10, gamma=0.001, kernel=rbf;, score=0.483 total time=   0.0s\n",
      "[CV 2/5] END .....C=10, gamma=0.001, kernel=rbf;, score=0.552 total time=   0.0s\n",
      "[CV 3/5] END .....C=10, gamma=0.001, kernel=rbf;, score=0.483 total time=   0.0s\n",
      "[CV 4/5] END .....C=10, gamma=0.001, kernel=rbf;, score=0.571 total time=   0.0s\n",
      "[CV 5/5] END .....C=10, gamma=0.001, kernel=rbf;, score=0.536 total time=   0.0s\n",
      "[CV 1/5] END ....C=10, gamma=0.0001, kernel=rbf;, score=0.345 total time=   0.0s\n",
      "[CV 2/5] END ....C=10, gamma=0.0001, kernel=rbf;, score=0.345 total time=   0.0s\n",
      "[CV 3/5] END ....C=10, gamma=0.0001, kernel=rbf;, score=0.379 total time=   0.0s\n",
      "[CV 4/5] END ....C=10, gamma=0.0001, kernel=rbf;, score=0.357 total time=   0.0s\n",
      "[CV 5/5] END ....C=10, gamma=0.0001, kernel=rbf;, score=0.357 total time=   0.0s\n",
      "[CV 1/5] END .....C=10, gamma=1e-05, kernel=rbf;, score=0.345 total time=   0.0s\n",
      "[CV 2/5] END .....C=10, gamma=1e-05, kernel=rbf;, score=0.345 total time=   0.0s\n",
      "[CV 3/5] END .....C=10, gamma=1e-05, kernel=rbf;, score=0.379 total time=   0.0s\n",
      "[CV 4/5] END .....C=10, gamma=1e-05, kernel=rbf;, score=0.357 total time=   0.0s\n",
      "[CV 5/5] END .....C=10, gamma=1e-05, kernel=rbf;, score=0.357 total time=   0.0s\n",
      "[CV 1/5] END ........C=100, gamma=1, kernel=rbf;, score=0.414 total time=   0.0s\n",
      "[CV 2/5] END ........C=100, gamma=1, kernel=rbf;, score=0.414 total time=   0.0s\n",
      "[CV 3/5] END ........C=100, gamma=1, kernel=rbf;, score=0.517 total time=   0.0s\n",
      "[CV 4/5] END ........C=100, gamma=1, kernel=rbf;, score=0.321 total time=   0.0s\n",
      "[CV 5/5] END ........C=100, gamma=1, kernel=rbf;, score=0.536 total time=   0.0s\n",
      "[CV 1/5] END ......C=100, gamma=0.1, kernel=rbf;, score=0.621 total time=   0.0s\n",
      "[CV 2/5] END ......C=100, gamma=0.1, kernel=rbf;, score=0.690 total time=   0.0s\n",
      "[CV 3/5] END ......C=100, gamma=0.1, kernel=rbf;, score=0.690 total time=   0.0s\n",
      "[CV 4/5] END ......C=100, gamma=0.1, kernel=rbf;, score=0.571 total time=   0.0s\n",
      "[CV 5/5] END ......C=100, gamma=0.1, kernel=rbf;, score=0.643 total time=   0.0s\n",
      "[CV 1/5] END .....C=100, gamma=0.01, kernel=rbf;, score=0.621 total time=   0.0s\n",
      "[CV 2/5] END .....C=100, gamma=0.01, kernel=rbf;, score=0.655 total time=   0.0s\n",
      "[CV 3/5] END .....C=100, gamma=0.01, kernel=rbf;, score=0.724 total time=   0.0s\n",
      "[CV 4/5] END .....C=100, gamma=0.01, kernel=rbf;, score=0.750 total time=   0.0s\n",
      "[CV 5/5] END .....C=100, gamma=0.01, kernel=rbf;, score=0.643 total time=   0.0s\n",
      "[CV 1/5] END ....C=100, gamma=0.001, kernel=rbf;, score=0.586 total time=   0.0s\n",
      "[CV 2/5] END ....C=100, gamma=0.001, kernel=rbf;, score=0.724 total time=   0.0s\n",
      "[CV 3/5] END ....C=100, gamma=0.001, kernel=rbf;, score=0.828 total time=   0.0s\n",
      "[CV 4/5] END ....C=100, gamma=0.001, kernel=rbf;, score=0.750 total time=   0.0s\n",
      "[CV 5/5] END ....C=100, gamma=0.001, kernel=rbf;, score=0.643 total time=   0.0s\n",
      "[CV 1/5] END ...C=100, gamma=0.0001, kernel=rbf;, score=0.448 total time=   0.0s\n",
      "[CV 2/5] END ...C=100, gamma=0.0001, kernel=rbf;, score=0.586 total time=   0.0s\n",
      "[CV 3/5] END ...C=100, gamma=0.0001, kernel=rbf;, score=0.517 total time=   0.0s\n",
      "[CV 4/5] END ...C=100, gamma=0.0001, kernel=rbf;, score=0.571 total time=   0.0s\n",
      "[CV 5/5] END ...C=100, gamma=0.0001, kernel=rbf;, score=0.536 total time=   0.0s\n",
      "[CV 1/5] END ....C=100, gamma=1e-05, kernel=rbf;, score=0.345 total time=   0.0s\n",
      "[CV 2/5] END ....C=100, gamma=1e-05, kernel=rbf;, score=0.345 total time=   0.0s\n",
      "[CV 3/5] END ....C=100, gamma=1e-05, kernel=rbf;, score=0.379 total time=   0.0s\n",
      "[CV 4/5] END ....C=100, gamma=1e-05, kernel=rbf;, score=0.357 total time=   0.0s\n"
     ]
    },
    {
     "name": "stdout",
     "output_type": "stream",
     "text": [
      "[CV 5/5] END ....C=100, gamma=1e-05, kernel=rbf;, score=0.357 total time=   0.0s\n",
      "[CV 1/5] END .......C=1000, gamma=1, kernel=rbf;, score=0.414 total time=   0.0s\n",
      "[CV 2/5] END .......C=1000, gamma=1, kernel=rbf;, score=0.414 total time=   0.0s\n",
      "[CV 3/5] END .......C=1000, gamma=1, kernel=rbf;, score=0.517 total time=   0.0s\n",
      "[CV 4/5] END .......C=1000, gamma=1, kernel=rbf;, score=0.321 total time=   0.0s\n",
      "[CV 5/5] END .......C=1000, gamma=1, kernel=rbf;, score=0.536 total time=   0.0s\n",
      "[CV 1/5] END .....C=1000, gamma=0.1, kernel=rbf;, score=0.621 total time=   0.0s\n",
      "[CV 2/5] END .....C=1000, gamma=0.1, kernel=rbf;, score=0.690 total time=   0.0s\n",
      "[CV 3/5] END .....C=1000, gamma=0.1, kernel=rbf;, score=0.690 total time=   0.0s\n",
      "[CV 4/5] END .....C=1000, gamma=0.1, kernel=rbf;, score=0.571 total time=   0.0s\n",
      "[CV 5/5] END .....C=1000, gamma=0.1, kernel=rbf;, score=0.643 total time=   0.0s\n",
      "[CV 1/5] END ....C=1000, gamma=0.01, kernel=rbf;, score=0.621 total time=   0.0s\n",
      "[CV 2/5] END ....C=1000, gamma=0.01, kernel=rbf;, score=0.655 total time=   0.0s\n",
      "[CV 3/5] END ....C=1000, gamma=0.01, kernel=rbf;, score=0.724 total time=   0.0s\n",
      "[CV 4/5] END ....C=1000, gamma=0.01, kernel=rbf;, score=0.750 total time=   0.0s\n",
      "[CV 5/5] END ....C=1000, gamma=0.01, kernel=rbf;, score=0.643 total time=   0.0s\n",
      "[CV 1/5] END ...C=1000, gamma=0.001, kernel=rbf;, score=0.552 total time=   0.0s\n",
      "[CV 2/5] END ...C=1000, gamma=0.001, kernel=rbf;, score=0.655 total time=   0.0s\n",
      "[CV 3/5] END ...C=1000, gamma=0.001, kernel=rbf;, score=0.655 total time=   0.0s\n",
      "[CV 4/5] END ...C=1000, gamma=0.001, kernel=rbf;, score=0.750 total time=   0.0s\n",
      "[CV 5/5] END ...C=1000, gamma=0.001, kernel=rbf;, score=0.679 total time=   0.0s\n",
      "[CV 1/5] END ..C=1000, gamma=0.0001, kernel=rbf;, score=0.586 total time=   0.0s\n",
      "[CV 2/5] END ..C=1000, gamma=0.0001, kernel=rbf;, score=0.724 total time=   0.0s\n",
      "[CV 3/5] END ..C=1000, gamma=0.0001, kernel=rbf;, score=0.793 total time=   0.0s\n",
      "[CV 4/5] END ..C=1000, gamma=0.0001, kernel=rbf;, score=0.750 total time=   0.0s\n",
      "[CV 5/5] END ..C=1000, gamma=0.0001, kernel=rbf;, score=0.643 total time=   0.0s\n",
      "[CV 1/5] END ...C=1000, gamma=1e-05, kernel=rbf;, score=0.448 total time=   0.0s\n",
      "[CV 2/5] END ...C=1000, gamma=1e-05, kernel=rbf;, score=0.586 total time=   0.0s\n",
      "[CV 3/5] END ...C=1000, gamma=1e-05, kernel=rbf;, score=0.517 total time=   0.0s\n",
      "[CV 4/5] END ...C=1000, gamma=1e-05, kernel=rbf;, score=0.571 total time=   0.0s\n",
      "[CV 5/5] END ...C=1000, gamma=1e-05, kernel=rbf;, score=0.536 total time=   0.0s\n",
      "[CV 1/5] END ......C=10000, gamma=1, kernel=rbf;, score=0.414 total time=   0.0s\n",
      "[CV 2/5] END ......C=10000, gamma=1, kernel=rbf;, score=0.414 total time=   0.0s\n",
      "[CV 3/5] END ......C=10000, gamma=1, kernel=rbf;, score=0.517 total time=   0.0s\n",
      "[CV 4/5] END ......C=10000, gamma=1, kernel=rbf;, score=0.321 total time=   0.0s\n",
      "[CV 5/5] END ......C=10000, gamma=1, kernel=rbf;, score=0.536 total time=   0.0s\n",
      "[CV 1/5] END ....C=10000, gamma=0.1, kernel=rbf;, score=0.621 total time=   0.0s\n",
      "[CV 2/5] END ....C=10000, gamma=0.1, kernel=rbf;, score=0.690 total time=   0.0s\n",
      "[CV 3/5] END ....C=10000, gamma=0.1, kernel=rbf;, score=0.690 total time=   0.0s\n",
      "[CV 4/5] END ....C=10000, gamma=0.1, kernel=rbf;, score=0.571 total time=   0.0s\n",
      "[CV 5/5] END ....C=10000, gamma=0.1, kernel=rbf;, score=0.643 total time=   0.0s\n",
      "[CV 1/5] END ...C=10000, gamma=0.01, kernel=rbf;, score=0.621 total time=   0.0s\n",
      "[CV 2/5] END ...C=10000, gamma=0.01, kernel=rbf;, score=0.655 total time=   0.0s\n",
      "[CV 3/5] END ...C=10000, gamma=0.01, kernel=rbf;, score=0.724 total time=   0.0s\n",
      "[CV 4/5] END ...C=10000, gamma=0.01, kernel=rbf;, score=0.750 total time=   0.0s\n",
      "[CV 5/5] END ...C=10000, gamma=0.01, kernel=rbf;, score=0.643 total time=   0.0s\n",
      "[CV 1/5] END ..C=10000, gamma=0.001, kernel=rbf;, score=0.552 total time=   0.0s\n",
      "[CV 2/5] END ..C=10000, gamma=0.001, kernel=rbf;, score=0.655 total time=   0.0s\n",
      "[CV 3/5] END ..C=10000, gamma=0.001, kernel=rbf;, score=0.655 total time=   0.0s\n",
      "[CV 4/5] END ..C=10000, gamma=0.001, kernel=rbf;, score=0.750 total time=   0.0s\n",
      "[CV 5/5] END ..C=10000, gamma=0.001, kernel=rbf;, score=0.679 total time=   0.0s\n",
      "[CV 1/5] END .C=10000, gamma=0.0001, kernel=rbf;, score=0.552 total time=   0.0s\n",
      "[CV 2/5] END .C=10000, gamma=0.0001, kernel=rbf;, score=0.655 total time=   0.0s\n",
      "[CV 3/5] END .C=10000, gamma=0.0001, kernel=rbf;, score=0.655 total time=   0.0s\n",
      "[CV 4/5] END .C=10000, gamma=0.0001, kernel=rbf;, score=0.786 total time=   0.0s\n",
      "[CV 5/5] END .C=10000, gamma=0.0001, kernel=rbf;, score=0.679 total time=   0.0s\n",
      "[CV 1/5] END ..C=10000, gamma=1e-05, kernel=rbf;, score=0.586 total time=   0.0s\n",
      "[CV 2/5] END ..C=10000, gamma=1e-05, kernel=rbf;, score=0.724 total time=   0.0s\n",
      "[CV 3/5] END ..C=10000, gamma=1e-05, kernel=rbf;, score=0.793 total time=   0.0s\n",
      "[CV 4/5] END ..C=10000, gamma=1e-05, kernel=rbf;, score=0.750 total time=   0.0s\n",
      "[CV 5/5] END ..C=10000, gamma=1e-05, kernel=rbf;, score=0.643 total time=   0.0s\n"
     ]
    },
    {
     "data": {
      "text/plain": [
       "GridSearchCV(estimator=SVC(),\n",
       "             param_grid={'C': [0.1, 1, 10, 100, 1000, 10000],\n",
       "                         'gamma': [1, 0.1, 0.01, 0.001, 0.0001, 1e-05],\n",
       "                         'kernel': ['rbf']},\n",
       "             verbose=3)"
      ]
     },
     "execution_count": 190,
     "metadata": {},
     "output_type": "execute_result"
    }
   ],
   "source": [
    "grid.fit(x_train, y_train)"
   ]
  },
  {
   "cell_type": "code",
   "execution_count": null,
   "metadata": {
    "id": "fT4JXtk5JtB5",
    "outputId": "24edeb8d-6f5f-4422-f8f3-a18196aa41f4"
   },
   "outputs": [
    {
     "data": {
      "text/plain": [
       "{'C': 100, 'gamma': 0.001, 'kernel': 'rbf'}"
      ]
     },
     "execution_count": 191,
     "metadata": {},
     "output_type": "execute_result"
    }
   ],
   "source": [
    "grid.best_params_"
   ]
  },
  {
   "cell_type": "code",
   "execution_count": null,
   "metadata": {
    "id": "JHw45SRIJtB5"
   },
   "outputs": [],
   "source": [
    "grid_predictions = grid.predict(x_test)"
   ]
  },
  {
   "cell_type": "code",
   "execution_count": null,
   "metadata": {
    "id": "NFRK7Wa6JtB5",
    "outputId": "51ae6efa-e218-4deb-eed6-e099ff72b32c"
   },
   "outputs": [
    {
     "name": "stdout",
     "output_type": "stream",
     "text": [
      "[[ 9  3  4]\n",
      " [ 6 19  0]\n",
      " [ 9  5  7]]\n",
      "              precision    recall  f1-score   support\n",
      "\n",
      "         bad       0.38      0.56      0.45        16\n",
      "        good       0.70      0.76      0.73        25\n",
      "    moderate       0.64      0.33      0.44        21\n",
      "\n",
      "    accuracy                           0.56        62\n",
      "   macro avg       0.57      0.55      0.54        62\n",
      "weighted avg       0.60      0.56      0.56        62\n",
      "\n"
     ]
    }
   ],
   "source": [
    "model_performane(y_pred, grid_predictions)"
   ]
  },
  {
   "cell_type": "code",
   "execution_count": null,
   "metadata": {
    "id": "pQAjE7nIJtB5"
   },
   "outputs": [],
   "source": []
  }
 ],
 "metadata": {
  "colab": {
   "collapsed_sections": [
    "gV9Upi7KJtBz",
    "lV2amNiVJtB0",
    "8oXfVgWEJtB1",
    "rVt3Baz6JtB2",
    "hVpwb2NmJtB4"
   ],
   "name": "model building.ipynb",
   "provenance": []
  },
  "kernelspec": {
   "display_name": "Python 3",
   "language": "python",
   "name": "python3"
  },
  "language_info": {
   "codemirror_mode": {
    "name": "ipython",
    "version": 3
   },
   "file_extension": ".py",
   "mimetype": "text/x-python",
   "name": "python",
   "nbconvert_exporter": "python",
   "pygments_lexer": "ipython3",
   "version": "3.8.3"
  },
  "varInspector": {
   "cols": {
    "lenName": 16,
    "lenType": 16,
    "lenVar": 40
   },
   "kernels_config": {
    "python": {
     "delete_cmd_postfix": "",
     "delete_cmd_prefix": "del ",
     "library": "var_list.py",
     "varRefreshCmd": "print(var_dic_list())"
    },
    "r": {
     "delete_cmd_postfix": ") ",
     "delete_cmd_prefix": "rm(",
     "library": "var_list.r",
     "varRefreshCmd": "cat(var_dic_list()) "
    }
   },
   "types_to_exclude": [
    "module",
    "function",
    "builtin_function_or_method",
    "instance",
    "_Feature"
   ],
   "window_display": false
  }
 },
 "nbformat": 4,
 "nbformat_minor": 1
}
