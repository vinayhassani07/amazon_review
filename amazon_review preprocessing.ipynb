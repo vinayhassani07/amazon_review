{
 "cells": [
  {
   "cell_type": "markdown",
   "metadata": {},
   "source": [
    "## Amazon Reviews Data Preprocessing  \n",
    "\n",
    "### Imports"
   ]
  },
  {
   "cell_type": "code",
   "execution_count": 147,
   "metadata": {},
   "outputs": [],
   "source": [
    "import numpy as np\n",
    "import pandas as pd\n",
    "import nltk, re\n",
    "from bs4 import BeautifulSoup as bs\n",
    "import requests\n",
    "import string"
   ]
  },
  {
   "cell_type": "markdown",
   "metadata": {},
   "source": [
    "### The Dataset"
   ]
  },
  {
   "cell_type": "code",
   "execution_count": 148,
   "metadata": {},
   "outputs": [],
   "source": [
    "# create dataframe of reviews\n",
    "review_data = pd.read_csv('review_data.csv')\n",
    "review_data = review_data.set_axis(['num','reviews'], axis=1)"
   ]
  },
  {
   "cell_type": "code",
   "execution_count": 149,
   "metadata": {},
   "outputs": [],
   "source": [
    "# Drop Null values\n",
    "review_data.drop('num',axis=1, inplace=True)\n",
    "review_data.dropna(inplace=True)"
   ]
  },
  {
   "cell_type": "code",
   "execution_count": 150,
   "metadata": {},
   "outputs": [
    {
     "data": {
      "text/plain": [
       "(477, 1)"
      ]
     },
     "execution_count": 150,
     "metadata": {},
     "output_type": "execute_result"
    }
   ],
   "source": [
    "review_data.shape"
   ]
  },
  {
   "cell_type": "code",
   "execution_count": 151,
   "metadata": {
    "scrolled": true
   },
   "outputs": [
    {
     "data": {
      "text/html": [
       "<div>\n",
       "<style scoped>\n",
       "    .dataframe tbody tr th:only-of-type {\n",
       "        vertical-align: middle;\n",
       "    }\n",
       "\n",
       "    .dataframe tbody tr th {\n",
       "        vertical-align: top;\n",
       "    }\n",
       "\n",
       "    .dataframe thead th {\n",
       "        text-align: right;\n",
       "    }\n",
       "</style>\n",
       "<table border=\"1\" class=\"dataframe\">\n",
       "  <thead>\n",
       "    <tr style=\"text-align: right;\">\n",
       "      <th></th>\n",
       "      <th>reviews</th>\n",
       "    </tr>\n",
       "  </thead>\n",
       "  <tbody>\n",
       "    <tr>\n",
       "      <th>0</th>\n",
       "      <td>Let me start by saying I’ve got a Master’s de...</td>\n",
       "    </tr>\n",
       "    <tr>\n",
       "      <th>1</th>\n",
       "      <td>These are awesome! I should’ve bought the smal...</td>\n",
       "    </tr>\n",
       "    <tr>\n",
       "      <th>2</th>\n",
       "      <td>I wanted to mount a Sonos speaker in my bathro...</td>\n",
       "    </tr>\n",
       "    <tr>\n",
       "      <th>3</th>\n",
       "      <td>I love these floating bookshelves. They give a...</td>\n",
       "    </tr>\n",
       "    <tr>\n",
       "      <th>4</th>\n",
       "      <td>This is the coolest thing I’ve ever seen , and...</td>\n",
       "    </tr>\n",
       "    <tr>\n",
       "      <th>...</th>\n",
       "      <td>...</td>\n",
       "    </tr>\n",
       "    <tr>\n",
       "      <th>474</th>\n",
       "      <td>This is the coolest thing I’ve ever seen , and...</td>\n",
       "    </tr>\n",
       "    <tr>\n",
       "      <th>475</th>\n",
       "      <td>I know that this is labeled a bookshelf but I ...</td>\n",
       "    </tr>\n",
       "    <tr>\n",
       "      <th>476</th>\n",
       "      <td>Really wanted to give 5 stars Because i am in ...</td>\n",
       "    </tr>\n",
       "    <tr>\n",
       "      <th>477</th>\n",
       "      <td>Been needing more book storage and I wanted a ...</td>\n",
       "    </tr>\n",
       "    <tr>\n",
       "      <th>478</th>\n",
       "      <td>Just what I was looking for for this little sp...</td>\n",
       "    </tr>\n",
       "  </tbody>\n",
       "</table>\n",
       "<p>477 rows × 1 columns</p>\n",
       "</div>"
      ],
      "text/plain": [
       "                                               reviews\n",
       "0     Let me start by saying I’ve got a Master’s de...\n",
       "1    These are awesome! I should’ve bought the smal...\n",
       "2    I wanted to mount a Sonos speaker in my bathro...\n",
       "3    I love these floating bookshelves. They give a...\n",
       "4    This is the coolest thing I’ve ever seen , and...\n",
       "..                                                 ...\n",
       "474  This is the coolest thing I’ve ever seen , and...\n",
       "475  I know that this is labeled a bookshelf but I ...\n",
       "476  Really wanted to give 5 stars Because i am in ...\n",
       "477  Been needing more book storage and I wanted a ...\n",
       "478  Just what I was looking for for this little sp...\n",
       "\n",
       "[477 rows x 1 columns]"
      ]
     },
     "execution_count": 151,
     "metadata": {},
     "output_type": "execute_result"
    }
   ],
   "source": [
    "review_data"
   ]
  },
  {
   "cell_type": "markdown",
   "metadata": {},
   "source": [
    "### Data Preprocessing\n",
    "#### Remove Punctuations"
   ]
  },
  {
   "cell_type": "code",
   "execution_count": 152,
   "metadata": {},
   "outputs": [
    {
     "data": {
      "text/html": [
       "<div>\n",
       "<style scoped>\n",
       "    .dataframe tbody tr th:only-of-type {\n",
       "        vertical-align: middle;\n",
       "    }\n",
       "\n",
       "    .dataframe tbody tr th {\n",
       "        vertical-align: top;\n",
       "    }\n",
       "\n",
       "    .dataframe thead th {\n",
       "        text-align: right;\n",
       "    }\n",
       "</style>\n",
       "<table border=\"1\" class=\"dataframe\">\n",
       "  <thead>\n",
       "    <tr style=\"text-align: right;\">\n",
       "      <th></th>\n",
       "      <th>reviews</th>\n",
       "      <th>clean_data</th>\n",
       "    </tr>\n",
       "  </thead>\n",
       "  <tbody>\n",
       "    <tr>\n",
       "      <th>0</th>\n",
       "      <td>Let me start by saying I’ve got a Master’s de...</td>\n",
       "      <td>Let me start by saying I’ve got a Master’s de...</td>\n",
       "    </tr>\n",
       "    <tr>\n",
       "      <th>1</th>\n",
       "      <td>These are awesome! I should’ve bought the smal...</td>\n",
       "      <td>These are awesome I should’ve bought the small...</td>\n",
       "    </tr>\n",
       "    <tr>\n",
       "      <th>2</th>\n",
       "      <td>I wanted to mount a Sonos speaker in my bathro...</td>\n",
       "      <td>I wanted to mount a Sonos speaker in my bathro...</td>\n",
       "    </tr>\n",
       "    <tr>\n",
       "      <th>3</th>\n",
       "      <td>I love these floating bookshelves. They give a...</td>\n",
       "      <td>I love these floating bookshelves They give a ...</td>\n",
       "    </tr>\n",
       "    <tr>\n",
       "      <th>4</th>\n",
       "      <td>This is the coolest thing I’ve ever seen , and...</td>\n",
       "      <td>This is the coolest thing I’ve ever seen  and ...</td>\n",
       "    </tr>\n",
       "  </tbody>\n",
       "</table>\n",
       "</div>"
      ],
      "text/plain": [
       "                                             reviews  \\\n",
       "0   Let me start by saying I’ve got a Master’s de...   \n",
       "1  These are awesome! I should’ve bought the smal...   \n",
       "2  I wanted to mount a Sonos speaker in my bathro...   \n",
       "3  I love these floating bookshelves. They give a...   \n",
       "4  This is the coolest thing I’ve ever seen , and...   \n",
       "\n",
       "                                          clean_data  \n",
       "0   Let me start by saying I’ve got a Master’s de...  \n",
       "1  These are awesome I should’ve bought the small...  \n",
       "2  I wanted to mount a Sonos speaker in my bathro...  \n",
       "3  I love these floating bookshelves They give a ...  \n",
       "4  This is the coolest thing I’ve ever seen  and ...  "
      ]
     },
     "execution_count": 152,
     "metadata": {},
     "output_type": "execute_result"
    }
   ],
   "source": [
    "# defining the function to remove punctuation\n",
    "def remove_punctuation(text):\n",
    "    punctuationfree=\"\".join([i for i in text if i not in string.punctuation])\n",
    "    return punctuationfree\n",
    "\n",
    "# storing the puntuation free text\n",
    "review_data['clean_data']= review_data['reviews'].apply(lambda x:remove_punctuation(x))\n",
    "review_data.head()"
   ]
  },
  {
   "cell_type": "markdown",
   "metadata": {},
   "source": [
    "#### Convert text into lowercase"
   ]
  },
  {
   "cell_type": "code",
   "execution_count": 153,
   "metadata": {},
   "outputs": [
    {
     "data": {
      "text/html": [
       "<div>\n",
       "<style scoped>\n",
       "    .dataframe tbody tr th:only-of-type {\n",
       "        vertical-align: middle;\n",
       "    }\n",
       "\n",
       "    .dataframe tbody tr th {\n",
       "        vertical-align: top;\n",
       "    }\n",
       "\n",
       "    .dataframe thead th {\n",
       "        text-align: right;\n",
       "    }\n",
       "</style>\n",
       "<table border=\"1\" class=\"dataframe\">\n",
       "  <thead>\n",
       "    <tr style=\"text-align: right;\">\n",
       "      <th></th>\n",
       "      <th>reviews</th>\n",
       "      <th>clean_data</th>\n",
       "      <th>review_lower</th>\n",
       "    </tr>\n",
       "  </thead>\n",
       "  <tbody>\n",
       "    <tr>\n",
       "      <th>0</th>\n",
       "      <td>Let me start by saying I’ve got a Master’s de...</td>\n",
       "      <td>Let me start by saying I’ve got a Master’s de...</td>\n",
       "      <td>let me start by saying i’ve got a master’s de...</td>\n",
       "    </tr>\n",
       "    <tr>\n",
       "      <th>1</th>\n",
       "      <td>These are awesome! I should’ve bought the smal...</td>\n",
       "      <td>These are awesome I should’ve bought the small...</td>\n",
       "      <td>these are awesome i should’ve bought the small...</td>\n",
       "    </tr>\n",
       "    <tr>\n",
       "      <th>2</th>\n",
       "      <td>I wanted to mount a Sonos speaker in my bathro...</td>\n",
       "      <td>I wanted to mount a Sonos speaker in my bathro...</td>\n",
       "      <td>i wanted to mount a sonos speaker in my bathro...</td>\n",
       "    </tr>\n",
       "    <tr>\n",
       "      <th>3</th>\n",
       "      <td>I love these floating bookshelves. They give a...</td>\n",
       "      <td>I love these floating bookshelves They give a ...</td>\n",
       "      <td>i love these floating bookshelves they give a ...</td>\n",
       "    </tr>\n",
       "    <tr>\n",
       "      <th>4</th>\n",
       "      <td>This is the coolest thing I’ve ever seen , and...</td>\n",
       "      <td>This is the coolest thing I’ve ever seen  and ...</td>\n",
       "      <td>this is the coolest thing i’ve ever seen  and ...</td>\n",
       "    </tr>\n",
       "  </tbody>\n",
       "</table>\n",
       "</div>"
      ],
      "text/plain": [
       "                                             reviews  \\\n",
       "0   Let me start by saying I’ve got a Master’s de...   \n",
       "1  These are awesome! I should’ve bought the smal...   \n",
       "2  I wanted to mount a Sonos speaker in my bathro...   \n",
       "3  I love these floating bookshelves. They give a...   \n",
       "4  This is the coolest thing I’ve ever seen , and...   \n",
       "\n",
       "                                          clean_data  \\\n",
       "0   Let me start by saying I’ve got a Master’s de...   \n",
       "1  These are awesome I should’ve bought the small...   \n",
       "2  I wanted to mount a Sonos speaker in my bathro...   \n",
       "3  I love these floating bookshelves They give a ...   \n",
       "4  This is the coolest thing I’ve ever seen  and ...   \n",
       "\n",
       "                                        review_lower  \n",
       "0   let me start by saying i’ve got a master’s de...  \n",
       "1  these are awesome i should’ve bought the small...  \n",
       "2  i wanted to mount a sonos speaker in my bathro...  \n",
       "3  i love these floating bookshelves they give a ...  \n",
       "4  this is the coolest thing i’ve ever seen  and ...  "
      ]
     },
     "execution_count": 153,
     "metadata": {},
     "output_type": "execute_result"
    }
   ],
   "source": [
    "# Converted into lower case\n",
    "review_data['review_lower']= review_data['clean_data'].apply(lambda x: x.lower())\n",
    "review_data.head()"
   ]
  },
  {
   "cell_type": "markdown",
   "metadata": {},
   "source": [
    "#### Tokenization"
   ]
  },
  {
   "cell_type": "code",
   "execution_count": 154,
   "metadata": {},
   "outputs": [
    {
     "data": {
      "text/html": [
       "<div>\n",
       "<style scoped>\n",
       "    .dataframe tbody tr th:only-of-type {\n",
       "        vertical-align: middle;\n",
       "    }\n",
       "\n",
       "    .dataframe tbody tr th {\n",
       "        vertical-align: top;\n",
       "    }\n",
       "\n",
       "    .dataframe thead th {\n",
       "        text-align: right;\n",
       "    }\n",
       "</style>\n",
       "<table border=\"1\" class=\"dataframe\">\n",
       "  <thead>\n",
       "    <tr style=\"text-align: right;\">\n",
       "      <th></th>\n",
       "      <th>reviews</th>\n",
       "      <th>clean_data</th>\n",
       "      <th>review_lower</th>\n",
       "      <th>tokenied</th>\n",
       "    </tr>\n",
       "  </thead>\n",
       "  <tbody>\n",
       "    <tr>\n",
       "      <th>0</th>\n",
       "      <td>Let me start by saying I’ve got a Master’s de...</td>\n",
       "      <td>Let me start by saying I’ve got a Master’s de...</td>\n",
       "      <td>let me start by saying i’ve got a master’s de...</td>\n",
       "      <td>[let, me, start, by, saying, i, ’, ve, got, a,...</td>\n",
       "    </tr>\n",
       "    <tr>\n",
       "      <th>1</th>\n",
       "      <td>These are awesome! I should’ve bought the smal...</td>\n",
       "      <td>These are awesome I should’ve bought the small...</td>\n",
       "      <td>these are awesome i should’ve bought the small...</td>\n",
       "      <td>[these, are, awesome, i, should, ’, ve, bought...</td>\n",
       "    </tr>\n",
       "    <tr>\n",
       "      <th>2</th>\n",
       "      <td>I wanted to mount a Sonos speaker in my bathro...</td>\n",
       "      <td>I wanted to mount a Sonos speaker in my bathro...</td>\n",
       "      <td>i wanted to mount a sonos speaker in my bathro...</td>\n",
       "      <td>[i, wanted, to, mount, a, sonos, speaker, in, ...</td>\n",
       "    </tr>\n",
       "    <tr>\n",
       "      <th>3</th>\n",
       "      <td>I love these floating bookshelves. They give a...</td>\n",
       "      <td>I love these floating bookshelves They give a ...</td>\n",
       "      <td>i love these floating bookshelves they give a ...</td>\n",
       "      <td>[i, love, these, floating, bookshelves, they, ...</td>\n",
       "    </tr>\n",
       "    <tr>\n",
       "      <th>4</th>\n",
       "      <td>This is the coolest thing I’ve ever seen , and...</td>\n",
       "      <td>This is the coolest thing I’ve ever seen  and ...</td>\n",
       "      <td>this is the coolest thing i’ve ever seen  and ...</td>\n",
       "      <td>[this, is, the, coolest, thing, i, ’, ve, ever...</td>\n",
       "    </tr>\n",
       "  </tbody>\n",
       "</table>\n",
       "</div>"
      ],
      "text/plain": [
       "                                             reviews  \\\n",
       "0   Let me start by saying I’ve got a Master’s de...   \n",
       "1  These are awesome! I should’ve bought the smal...   \n",
       "2  I wanted to mount a Sonos speaker in my bathro...   \n",
       "3  I love these floating bookshelves. They give a...   \n",
       "4  This is the coolest thing I’ve ever seen , and...   \n",
       "\n",
       "                                          clean_data  \\\n",
       "0   Let me start by saying I’ve got a Master’s de...   \n",
       "1  These are awesome I should’ve bought the small...   \n",
       "2  I wanted to mount a Sonos speaker in my bathro...   \n",
       "3  I love these floating bookshelves They give a ...   \n",
       "4  This is the coolest thing I’ve ever seen  and ...   \n",
       "\n",
       "                                        review_lower  \\\n",
       "0   let me start by saying i’ve got a master’s de...   \n",
       "1  these are awesome i should’ve bought the small...   \n",
       "2  i wanted to mount a sonos speaker in my bathro...   \n",
       "3  i love these floating bookshelves they give a ...   \n",
       "4  this is the coolest thing i’ve ever seen  and ...   \n",
       "\n",
       "                                            tokenied  \n",
       "0  [let, me, start, by, saying, i, ’, ve, got, a,...  \n",
       "1  [these, are, awesome, i, should, ’, ve, bought...  \n",
       "2  [i, wanted, to, mount, a, sonos, speaker, in, ...  \n",
       "3  [i, love, these, floating, bookshelves, they, ...  \n",
       "4  [this, is, the, coolest, thing, i, ’, ve, ever...  "
      ]
     },
     "execution_count": 154,
     "metadata": {},
     "output_type": "execute_result"
    }
   ],
   "source": [
    "# Word tokenization\n",
    "review_data['tokenied']= review_data['review_lower'].apply(lambda x: nltk.word_tokenize(x))\n",
    "review_data.head()"
   ]
  },
  {
   "cell_type": "markdown",
   "metadata": {},
   "source": [
    "#### Remove Stopwords"
   ]
  },
  {
   "cell_type": "code",
   "execution_count": 155,
   "metadata": {},
   "outputs": [
    {
     "data": {
      "text/plain": [
       "['i', 'me', 'my', 'myself', 'we', 'our', 'ours', 'ourselves', 'you', \"you're\"]"
      ]
     },
     "execution_count": 155,
     "metadata": {},
     "output_type": "execute_result"
    }
   ],
   "source": [
    "#Stop words present in the library\n",
    "stopwords = nltk.corpus.stopwords.words('english')\n",
    "stopwords[0:10]"
   ]
  },
  {
   "cell_type": "code",
   "execution_count": 156,
   "metadata": {},
   "outputs": [
    {
     "data": {
      "text/html": [
       "<div>\n",
       "<style scoped>\n",
       "    .dataframe tbody tr th:only-of-type {\n",
       "        vertical-align: middle;\n",
       "    }\n",
       "\n",
       "    .dataframe tbody tr th {\n",
       "        vertical-align: top;\n",
       "    }\n",
       "\n",
       "    .dataframe thead th {\n",
       "        text-align: right;\n",
       "    }\n",
       "</style>\n",
       "<table border=\"1\" class=\"dataframe\">\n",
       "  <thead>\n",
       "    <tr style=\"text-align: right;\">\n",
       "      <th></th>\n",
       "      <th>reviews</th>\n",
       "      <th>clean_data</th>\n",
       "      <th>review_lower</th>\n",
       "      <th>tokenied</th>\n",
       "      <th>no_stopwords</th>\n",
       "    </tr>\n",
       "  </thead>\n",
       "  <tbody>\n",
       "    <tr>\n",
       "      <th>0</th>\n",
       "      <td>Let me start by saying I’ve got a Master’s de...</td>\n",
       "      <td>Let me start by saying I’ve got a Master’s de...</td>\n",
       "      <td>let me start by saying i’ve got a master’s de...</td>\n",
       "      <td>[let, me, start, by, saying, i, ’, ve, got, a,...</td>\n",
       "      <td>[let, start, saying, ’, got, master, ’, degree...</td>\n",
       "    </tr>\n",
       "    <tr>\n",
       "      <th>1</th>\n",
       "      <td>These are awesome! I should’ve bought the smal...</td>\n",
       "      <td>These are awesome I should’ve bought the small...</td>\n",
       "      <td>these are awesome i should’ve bought the small...</td>\n",
       "      <td>[these, are, awesome, i, should, ’, ve, bought...</td>\n",
       "      <td>[awesome, ’, bought, small, ’, many, large, bo...</td>\n",
       "    </tr>\n",
       "    <tr>\n",
       "      <th>2</th>\n",
       "      <td>I wanted to mount a Sonos speaker in my bathro...</td>\n",
       "      <td>I wanted to mount a Sonos speaker in my bathro...</td>\n",
       "      <td>i wanted to mount a sonos speaker in my bathro...</td>\n",
       "      <td>[i, wanted, to, mount, a, sonos, speaker, in, ...</td>\n",
       "      <td>[wanted, mount, sonos, speaker, bathroom, dril...</td>\n",
       "    </tr>\n",
       "    <tr>\n",
       "      <th>3</th>\n",
       "      <td>I love these floating bookshelves. They give a...</td>\n",
       "      <td>I love these floating bookshelves They give a ...</td>\n",
       "      <td>i love these floating bookshelves they give a ...</td>\n",
       "      <td>[i, love, these, floating, bookshelves, they, ...</td>\n",
       "      <td>[love, floating, bookshelves, give, magical, f...</td>\n",
       "    </tr>\n",
       "    <tr>\n",
       "      <th>4</th>\n",
       "      <td>This is the coolest thing I’ve ever seen , and...</td>\n",
       "      <td>This is the coolest thing I’ve ever seen  and ...</td>\n",
       "      <td>this is the coolest thing i’ve ever seen  and ...</td>\n",
       "      <td>[this, is, the, coolest, thing, i, ’, ve, ever...</td>\n",
       "      <td>[coolest, thing, ’, ever, seen, bought, many, ...</td>\n",
       "    </tr>\n",
       "  </tbody>\n",
       "</table>\n",
       "</div>"
      ],
      "text/plain": [
       "                                             reviews  \\\n",
       "0   Let me start by saying I’ve got a Master’s de...   \n",
       "1  These are awesome! I should’ve bought the smal...   \n",
       "2  I wanted to mount a Sonos speaker in my bathro...   \n",
       "3  I love these floating bookshelves. They give a...   \n",
       "4  This is the coolest thing I’ve ever seen , and...   \n",
       "\n",
       "                                          clean_data  \\\n",
       "0   Let me start by saying I’ve got a Master’s de...   \n",
       "1  These are awesome I should’ve bought the small...   \n",
       "2  I wanted to mount a Sonos speaker in my bathro...   \n",
       "3  I love these floating bookshelves They give a ...   \n",
       "4  This is the coolest thing I’ve ever seen  and ...   \n",
       "\n",
       "                                        review_lower  \\\n",
       "0   let me start by saying i’ve got a master’s de...   \n",
       "1  these are awesome i should’ve bought the small...   \n",
       "2  i wanted to mount a sonos speaker in my bathro...   \n",
       "3  i love these floating bookshelves they give a ...   \n",
       "4  this is the coolest thing i’ve ever seen  and ...   \n",
       "\n",
       "                                            tokenied  \\\n",
       "0  [let, me, start, by, saying, i, ’, ve, got, a,...   \n",
       "1  [these, are, awesome, i, should, ’, ve, bought...   \n",
       "2  [i, wanted, to, mount, a, sonos, speaker, in, ...   \n",
       "3  [i, love, these, floating, bookshelves, they, ...   \n",
       "4  [this, is, the, coolest, thing, i, ’, ve, ever...   \n",
       "\n",
       "                                        no_stopwords  \n",
       "0  [let, start, saying, ’, got, master, ’, degree...  \n",
       "1  [awesome, ’, bought, small, ’, many, large, bo...  \n",
       "2  [wanted, mount, sonos, speaker, bathroom, dril...  \n",
       "3  [love, floating, bookshelves, give, magical, f...  \n",
       "4  [coolest, thing, ’, ever, seen, bought, many, ...  "
      ]
     },
     "execution_count": 156,
     "metadata": {},
     "output_type": "execute_result"
    }
   ],
   "source": [
    "# defining the function to remove stopwords from tokenized text\n",
    "def remove_stopwords(text):\n",
    "    output= [i for i in text if i not in stopwords]\n",
    "    return output\n",
    "\n",
    "#applying the function\n",
    "review_data['no_stopwords'] = review_data['tokenied'].apply(lambda x:remove_stopwords(x))\n",
    "review_data.head()"
   ]
  },
  {
   "cell_type": "code",
   "execution_count": 157,
   "metadata": {},
   "outputs": [
    {
     "data": {
      "text/html": [
       "<div>\n",
       "<style scoped>\n",
       "    .dataframe tbody tr th:only-of-type {\n",
       "        vertical-align: middle;\n",
       "    }\n",
       "\n",
       "    .dataframe tbody tr th {\n",
       "        vertical-align: top;\n",
       "    }\n",
       "\n",
       "    .dataframe thead th {\n",
       "        text-align: right;\n",
       "    }\n",
       "</style>\n",
       "<table border=\"1\" class=\"dataframe\">\n",
       "  <thead>\n",
       "    <tr style=\"text-align: right;\">\n",
       "      <th></th>\n",
       "      <th>reviews</th>\n",
       "      <th>clean_data</th>\n",
       "      <th>review_lower</th>\n",
       "      <th>tokenied</th>\n",
       "      <th>no_stopwords</th>\n",
       "      <th>review_preprocessed</th>\n",
       "    </tr>\n",
       "  </thead>\n",
       "  <tbody>\n",
       "    <tr>\n",
       "      <th>0</th>\n",
       "      <td>Let me start by saying I’ve got a Master’s de...</td>\n",
       "      <td>Let me start by saying I’ve got a Master’s de...</td>\n",
       "      <td>let me start by saying i’ve got a master’s de...</td>\n",
       "      <td>[let, me, start, by, saying, i, ’, ve, got, a,...</td>\n",
       "      <td>[let, start, saying, ’, got, master, ’, degree...</td>\n",
       "      <td>[let, start, saying, got, master, degree, engl...</td>\n",
       "    </tr>\n",
       "    <tr>\n",
       "      <th>1</th>\n",
       "      <td>These are awesome! I should’ve bought the smal...</td>\n",
       "      <td>These are awesome I should’ve bought the small...</td>\n",
       "      <td>these are awesome i should’ve bought the small...</td>\n",
       "      <td>[these, are, awesome, i, should, ’, ve, bought...</td>\n",
       "      <td>[awesome, ’, bought, small, ’, many, large, bo...</td>\n",
       "      <td>[awesome, bought, small, many, large, books, u...</td>\n",
       "    </tr>\n",
       "    <tr>\n",
       "      <th>2</th>\n",
       "      <td>I wanted to mount a Sonos speaker in my bathro...</td>\n",
       "      <td>I wanted to mount a Sonos speaker in my bathro...</td>\n",
       "      <td>i wanted to mount a sonos speaker in my bathro...</td>\n",
       "      <td>[i, wanted, to, mount, a, sonos, speaker, in, ...</td>\n",
       "      <td>[wanted, mount, sonos, speaker, bathroom, dril...</td>\n",
       "      <td>[wanted, mount, sonos, speaker, bathroom, dril...</td>\n",
       "    </tr>\n",
       "    <tr>\n",
       "      <th>3</th>\n",
       "      <td>I love these floating bookshelves. They give a...</td>\n",
       "      <td>I love these floating bookshelves They give a ...</td>\n",
       "      <td>i love these floating bookshelves they give a ...</td>\n",
       "      <td>[i, love, these, floating, bookshelves, they, ...</td>\n",
       "      <td>[love, floating, bookshelves, give, magical, f...</td>\n",
       "      <td>[love, floating, bookshelves, give, magical, f...</td>\n",
       "    </tr>\n",
       "    <tr>\n",
       "      <th>4</th>\n",
       "      <td>This is the coolest thing I’ve ever seen , and...</td>\n",
       "      <td>This is the coolest thing I’ve ever seen  and ...</td>\n",
       "      <td>this is the coolest thing i’ve ever seen  and ...</td>\n",
       "      <td>[this, is, the, coolest, thing, i, ’, ve, ever...</td>\n",
       "      <td>[coolest, thing, ’, ever, seen, bought, many, ...</td>\n",
       "      <td>[coolest, thing, ever, seen, bought, many, sma...</td>\n",
       "    </tr>\n",
       "  </tbody>\n",
       "</table>\n",
       "</div>"
      ],
      "text/plain": [
       "                                             reviews  \\\n",
       "0   Let me start by saying I’ve got a Master’s de...   \n",
       "1  These are awesome! I should’ve bought the smal...   \n",
       "2  I wanted to mount a Sonos speaker in my bathro...   \n",
       "3  I love these floating bookshelves. They give a...   \n",
       "4  This is the coolest thing I’ve ever seen , and...   \n",
       "\n",
       "                                          clean_data  \\\n",
       "0   Let me start by saying I’ve got a Master’s de...   \n",
       "1  These are awesome I should’ve bought the small...   \n",
       "2  I wanted to mount a Sonos speaker in my bathro...   \n",
       "3  I love these floating bookshelves They give a ...   \n",
       "4  This is the coolest thing I’ve ever seen  and ...   \n",
       "\n",
       "                                        review_lower  \\\n",
       "0   let me start by saying i’ve got a master’s de...   \n",
       "1  these are awesome i should’ve bought the small...   \n",
       "2  i wanted to mount a sonos speaker in my bathro...   \n",
       "3  i love these floating bookshelves they give a ...   \n",
       "4  this is the coolest thing i’ve ever seen  and ...   \n",
       "\n",
       "                                            tokenied  \\\n",
       "0  [let, me, start, by, saying, i, ’, ve, got, a,...   \n",
       "1  [these, are, awesome, i, should, ’, ve, bought...   \n",
       "2  [i, wanted, to, mount, a, sonos, speaker, in, ...   \n",
       "3  [i, love, these, floating, bookshelves, they, ...   \n",
       "4  [this, is, the, coolest, thing, i, ’, ve, ever...   \n",
       "\n",
       "                                        no_stopwords  \\\n",
       "0  [let, start, saying, ’, got, master, ’, degree...   \n",
       "1  [awesome, ’, bought, small, ’, many, large, bo...   \n",
       "2  [wanted, mount, sonos, speaker, bathroom, dril...   \n",
       "3  [love, floating, bookshelves, give, magical, f...   \n",
       "4  [coolest, thing, ’, ever, seen, bought, many, ...   \n",
       "\n",
       "                                 review_preprocessed  \n",
       "0  [let, start, saying, got, master, degree, engl...  \n",
       "1  [awesome, bought, small, many, large, books, u...  \n",
       "2  [wanted, mount, sonos, speaker, bathroom, dril...  \n",
       "3  [love, floating, bookshelves, give, magical, f...  \n",
       "4  [coolest, thing, ever, seen, bought, many, sma...  "
      ]
     },
     "execution_count": 157,
     "metadata": {},
     "output_type": "execute_result"
    }
   ],
   "source": [
    "# Removing '’' symbol from tokens\n",
    "def removing(row):\n",
    "    for i in range(len(review_data)):\n",
    "        val = [x for x in row if x != \"’\"]\n",
    "    return val\n",
    "review_data['review_preprocessed'] = review_data['no_stopwords'].apply(removing)\n",
    "review_data.head()"
   ]
  },
  {
   "cell_type": "code",
   "execution_count": 163,
   "metadata": {},
   "outputs": [],
   "source": [
    "df = review_data.loc[:,'review_preprocessed']"
   ]
  },
  {
   "cell_type": "code",
   "execution_count": 172,
   "metadata": {},
   "outputs": [],
   "source": [
    "def onlylatter(location):\n",
    "    letters_only = re.sub(\"[^a-zA-Z]\",  \n",
    "                          \" \",         \n",
    "                          str(location))\n",
    "    return (\" \".join(letters_only))\n",
    "df = df.apply(lambda x: onlylatter(x))"
   ]
  },
  {
   "cell_type": "code",
   "execution_count": null,
   "metadata": {},
   "outputs": [],
   "source": []
  }
 ],
 "metadata": {
  "kernelspec": {
   "display_name": "Python 3",
   "language": "python",
   "name": "python3"
  },
  "language_info": {
   "codemirror_mode": {
    "name": "ipython",
    "version": 3
   },
   "file_extension": ".py",
   "mimetype": "text/x-python",
   "name": "python",
   "nbconvert_exporter": "python",
   "pygments_lexer": "ipython3",
   "version": "3.8.3"
  },
  "varInspector": {
   "cols": {
    "lenName": 16,
    "lenType": 16,
    "lenVar": 40
   },
   "kernels_config": {
    "python": {
     "delete_cmd_postfix": "",
     "delete_cmd_prefix": "del ",
     "library": "var_list.py",
     "varRefreshCmd": "print(var_dic_list())"
    },
    "r": {
     "delete_cmd_postfix": ") ",
     "delete_cmd_prefix": "rm(",
     "library": "var_list.r",
     "varRefreshCmd": "cat(var_dic_list()) "
    }
   },
   "types_to_exclude": [
    "module",
    "function",
    "builtin_function_or_method",
    "instance",
    "_Feature"
   ],
   "window_display": false
  }
 },
 "nbformat": 4,
 "nbformat_minor": 4
}
