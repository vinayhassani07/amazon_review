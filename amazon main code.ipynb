{
 "cells": [
  {
   "cell_type": "code",
   "execution_count": 1,
   "metadata": {
    "id": "ffQcgyJynfcK"
   },
   "outputs": [],
   "source": [
    "import requests\n",
    "from bs4 import BeautifulSoup\n",
    "import pandas as pd\n",
    "from wordcloud import WordCloud\n",
    "import matplotlib.pyplot as plt\n",
    "from nltk.tokenize import word_tokenize\n",
    "from nltk.corpus import stopwords\n",
    "import nltk"
   ]
  },
  {
   "cell_type": "code",
   "execution_count": 2,
   "metadata": {
    "id": "2ltKzmHungLK"
   },
   "outputs": [],
   "source": [
    "def get_soup(u):\n",
    "    r = requests.get(u,headers=HEADERS)\n",
    "    soup = BeautifulSoup(r.text, 'html.parser')\n",
    "    return soup\n",
    "review_list=[]\n"
   ]
  },
  {
   "cell_type": "code",
   "execution_count": 3,
   "metadata": {
    "id": "-v4sMc34njwO"
   },
   "outputs": [],
   "source": [
    "# Function : used to look for web-tags in our soup, then append our data to reviewList\n",
    "def get_reviews(soup):\n",
    "    reviews = soup.find_all('div', {'data-hook': 'review'})\n",
    "    try:\n",
    "        for item in reviews:\n",
    "            review = {\n",
    "            'title': item.find('a', {'class': 'a-size-base a-link-normal review-title a-color-base review-title-content a-text-bold'}).text.strip(),\n",
    "            'rating':float(item.find('i', {\"data-hook\":\"review-star-rating\"}).text.replace('out of 5 stars', '').strip()),\n",
    "            'body': item.find('div', {'class': 'a-row a-spacing-small review-data'}).text.strip(),\n",
    "            }\n",
    "            review_list.append(review)\n",
    "    except:\n",
    "        pass"
   ]
  },
  {
   "cell_type": "code",
   "execution_count": 4,
   "metadata": {
    "colab": {
     "base_uri": "https://localhost:8080/"
    },
    "id": "oU5g2YDvnozw",
    "outputId": "7ec60cfe-9299-4e6d-fb05-09e800036140"
   },
   "outputs": [
    {
     "name": "stdout",
     "output_type": "stream",
     "text": [
      "Getting page: 0\n",
      "10\n",
      "Getting page: 1\n",
      "20\n",
      "Getting page: 2\n",
      "30\n",
      "Getting page: 3\n",
      "40\n",
      "Getting page: 4\n",
      "50\n",
      "Getting page: 5\n",
      "60\n",
      "Getting page: 6\n",
      "70\n",
      "Getting page: 7\n",
      "80\n",
      "Getting page: 8\n",
      "90\n",
      "Getting page: 9\n",
      "100\n",
      "Getting page: 10\n",
      "110\n",
      "Getting page: 11\n",
      "120\n",
      "Getting page: 12\n",
      "130\n",
      "Getting page: 13\n",
      "140\n",
      "Getting page: 14\n",
      "150\n",
      "Getting page: 15\n",
      "160\n",
      "Getting page: 16\n",
      "170\n",
      "Getting page: 17\n",
      "180\n",
      "Getting page: 18\n",
      "190\n",
      "Getting page: 19\n",
      "200\n",
      "Getting page: 20\n",
      "210\n",
      "Getting page: 21\n",
      "220\n",
      "Getting page: 22\n",
      "230\n",
      "Getting page: 23\n",
      "240\n",
      "Getting page: 24\n",
      "250\n",
      "Getting page: 25\n",
      "260\n",
      "Getting page: 26\n",
      "270\n",
      "Getting page: 27\n",
      "280\n",
      "Getting page: 28\n",
      "290\n",
      "Getting page: 29\n",
      "300\n",
      "Getting page: 30\n",
      "310\n",
      "Getting page: 31\n",
      "320\n",
      "Getting page: 32\n",
      "330\n",
      "Getting page: 33\n",
      "340\n",
      "Getting page: 34\n",
      "350\n",
      "Getting page: 35\n",
      "360\n",
      "Getting page: 36\n",
      "370\n",
      "Getting page: 37\n",
      "380\n",
      "Getting page: 38\n",
      "390\n",
      "Getting page: 39\n",
      "400\n",
      "Getting page: 40\n",
      "410\n",
      "Getting page: 41\n",
      "420\n",
      "Getting page: 42\n",
      "430\n",
      "Getting page: 43\n",
      "440\n",
      "Getting page: 44\n",
      "450\n",
      "Getting page: 45\n",
      "460\n",
      "Getting page: 46\n",
      "470\n",
      "Getting page: 47\n",
      "480\n",
      "Getting page: 48\n",
      "490\n",
      "Getting page: 49\n",
      "500\n",
      "Getting page: 50\n",
      "510\n",
      "Getting page: 51\n",
      "520\n",
      "Getting page: 52\n",
      "530\n",
      "Getting page: 53\n",
      "540\n",
      "Getting page: 54\n",
      "550\n",
      "Getting page: 55\n",
      "560\n",
      "Getting page: 56\n",
      "570\n",
      "Getting page: 57\n",
      "580\n",
      "Getting page: 58\n",
      "590\n",
      "Getting page: 59\n",
      "600\n",
      "Getting page: 60\n",
      "610\n",
      "Getting page: 61\n",
      "620\n",
      "Getting page: 62\n",
      "630\n",
      "Getting page: 63\n",
      "640\n",
      "Getting page: 64\n",
      "650\n",
      "Getting page: 65\n",
      "660\n",
      "Getting page: 66\n",
      "670\n",
      "Getting page: 67\n",
      "680\n",
      "Getting page: 68\n",
      "690\n",
      "Getting page: 69\n",
      "700\n",
      "Getting page: 70\n",
      "710\n",
      "Getting page: 71\n",
      "720\n",
      "Getting page: 72\n",
      "730\n",
      "Getting page: 73\n",
      "740\n",
      "Getting page: 74\n",
      "750\n",
      "Getting page: 75\n",
      "760\n",
      "Getting page: 76\n",
      "770\n",
      "Getting page: 77\n",
      "780\n",
      "Getting page: 78\n",
      "790\n",
      "Getting page: 79\n",
      "800\n",
      "Getting page: 80\n",
      "810\n",
      "Getting page: 81\n",
      "820\n",
      "Getting page: 82\n",
      "830\n",
      "Getting page: 83\n",
      "840\n",
      "Getting page: 84\n",
      "850\n",
      "Getting page: 85\n",
      "860\n",
      "Getting page: 86\n",
      "870\n",
      "Getting page: 87\n",
      "880\n",
      "Getting page: 88\n",
      "890\n",
      "Getting page: 89\n",
      "900\n",
      "Getting page: 90\n",
      "910\n",
      "Getting page: 91\n",
      "920\n",
      "Getting page: 92\n",
      "930\n",
      "Getting page: 93\n",
      "940\n",
      "Getting page: 94\n",
      "950\n",
      "Getting page: 95\n",
      "960\n",
      "Getting page: 96\n",
      "970\n",
      "Getting page: 97\n",
      "980\n",
      "Getting page: 98\n",
      "990\n",
      "Getting page: 99\n",
      "1000\n",
      "Getting page: 100\n",
      "1010\n",
      "Getting page: 101\n",
      "1020\n",
      "Getting page: 102\n",
      "1030\n",
      "Getting page: 103\n",
      "1040\n",
      "Getting page: 104\n",
      "1050\n",
      "Getting page: 105\n",
      "1060\n",
      "Getting page: 106\n",
      "1070\n",
      "Getting page: 107\n",
      "1080\n",
      "Getting page: 108\n",
      "1090\n",
      "Getting page: 109\n",
      "1100\n",
      "Getting page: 110\n",
      "1110\n",
      "Getting page: 111\n",
      "1120\n",
      "Getting page: 112\n",
      "1130\n",
      "Getting page: 113\n",
      "1140\n",
      "Getting page: 114\n",
      "1150\n",
      "Getting page: 115\n",
      "1160\n",
      "Getting page: 116\n",
      "1170\n",
      "Getting page: 117\n",
      "1180\n",
      "Getting page: 118\n",
      "1190\n",
      "Getting page: 119\n",
      "1200\n",
      "Getting page: 120\n",
      "1210\n",
      "Getting page: 121\n",
      "1220\n",
      "Getting page: 122\n",
      "1230\n",
      "Getting page: 123\n",
      "1240\n",
      "Getting page: 124\n",
      "1250\n",
      "Getting page: 125\n",
      "1260\n",
      "Getting page: 126\n",
      "1270\n",
      "Getting page: 127\n",
      "1280\n",
      "Getting page: 128\n",
      "1290\n",
      "Getting page: 129\n",
      "1300\n",
      "Getting page: 130\n",
      "1310\n",
      "Getting page: 131\n",
      "1320\n",
      "Getting page: 132\n",
      "1330\n",
      "Getting page: 133\n",
      "1340\n",
      "Getting page: 134\n",
      "1350\n",
      "Getting page: 135\n",
      "1360\n",
      "Getting page: 136\n",
      "1370\n",
      "Getting page: 137\n",
      "1380\n",
      "Getting page: 138\n",
      "1390\n",
      "Getting page: 139\n",
      "1400\n",
      "Getting page: 140\n",
      "1410\n",
      "Getting page: 141\n",
      "1420\n",
      "Getting page: 142\n",
      "1422\n",
      "Getting page: 143\n",
      "1422\n",
      "Getting page: 144\n",
      "1422\n",
      "Getting page: 145\n",
      "1422\n",
      "Getting page: 146\n",
      "1422\n",
      "Getting page: 147\n",
      "1422\n",
      "Getting page: 148\n",
      "1422\n",
      "Getting page: 149\n",
      "1422\n",
      "Getting page: 150\n",
      "1422\n",
      "Getting page: 151\n",
      "1422\n",
      "Getting page: 152\n",
      "1422\n",
      "Getting page: 153\n",
      "1422\n",
      "Getting page: 154\n",
      "1422\n",
      "Getting page: 155\n",
      "1422\n",
      "Getting page: 156\n",
      "1422\n",
      "Getting page: 157\n",
      "1422\n",
      "Getting page: 158\n",
      "1422\n",
      "Getting page: 159\n",
      "1422\n",
      "Getting page: 160\n",
      "1422\n",
      "Getting page: 161\n",
      "1422\n",
      "Getting page: 162\n",
      "1422\n",
      "Getting page: 163\n",
      "1422\n",
      "Getting page: 164\n",
      "1422\n",
      "Getting page: 165\n",
      "1422\n",
      "Getting page: 166\n",
      "1422\n",
      "Getting page: 167\n",
      "1422\n",
      "Getting page: 168\n",
      "1422\n",
      "Getting page: 169\n",
      "1422\n",
      "Getting page: 170\n",
      "1422\n",
      "Getting page: 171\n",
      "1422\n",
      "Getting page: 172\n",
      "1422\n",
      "Getting page: 173\n",
      "1422\n",
      "Getting page: 174\n",
      "1422\n",
      "Getting page: 175\n",
      "1422\n",
      "Getting page: 176\n",
      "1422\n",
      "Getting page: 177\n",
      "1422\n",
      "Getting page: 178\n",
      "1422\n",
      "Getting page: 179\n",
      "1422\n",
      "Getting page: 180\n",
      "1422\n",
      "Getting page: 181\n",
      "1422\n",
      "Getting page: 182\n",
      "1422\n",
      "Getting page: 183\n",
      "1422\n",
      "Getting page: 184\n",
      "1422\n",
      "Getting page: 185\n",
      "1422\n",
      "Getting page: 186\n",
      "1422\n",
      "Getting page: 187\n",
      "1422\n",
      "Getting page: 188\n",
      "1422\n",
      "Getting page: 189\n",
      "1422\n",
      "Getting page: 190\n",
      "1422\n",
      "Getting page: 191\n",
      "1422\n",
      "Getting page: 192\n",
      "1422\n",
      "Getting page: 193\n",
      "1422\n",
      "Getting page: 194\n",
      "1422\n",
      "Getting page: 195\n",
      "1422\n",
      "Getting page: 196\n",
      "1422\n",
      "Getting page: 197\n",
      "1422\n",
      "Getting page: 198\n",
      "1422\n",
      "Getting page: 199\n",
      "1422\n",
      "Getting page: 200\n",
      "1422\n",
      "Getting page: 201\n",
      "1422\n",
      "Getting page: 202\n",
      "1422\n",
      "Getting page: 203\n",
      "1422\n",
      "Getting page: 204\n",
      "1422\n",
      "Getting page: 205\n",
      "1422\n",
      "Getting page: 206\n",
      "1422\n",
      "Getting page: 207\n",
      "1422\n",
      "Getting page: 208\n",
      "1422\n",
      "Getting page: 209\n",
      "1422\n",
      "Getting page: 210\n",
      "1422\n",
      "Getting page: 211\n",
      "1422\n",
      "Getting page: 212\n",
      "1422\n",
      "Getting page: 213\n",
      "1422\n",
      "Getting page: 214\n",
      "1422\n",
      "Getting page: 215\n",
      "1422\n",
      "Getting page: 216\n",
      "1422\n",
      "Getting page: 217\n",
      "1422\n",
      "Getting page: 218\n",
      "1422\n",
      "Getting page: 219\n",
      "1422\n",
      "Getting page: 220\n",
      "1422\n",
      "Getting page: 221\n",
      "1422\n",
      "Getting page: 222\n",
      "1422\n",
      "Getting page: 223\n",
      "1422\n",
      "Getting page: 224\n",
      "1422\n",
      "Getting page: 225\n",
      "1422\n",
      "Getting page: 226\n",
      "1422\n",
      "Getting page: 227\n",
      "1422\n",
      "Getting page: 228\n",
      "1422\n",
      "Getting page: 229\n",
      "1422\n",
      "Getting page: 230\n",
      "1422\n",
      "Getting page: 231\n",
      "1422\n",
      "Getting page: 232\n",
      "1422\n",
      "Getting page: 233\n",
      "1422\n",
      "Getting page: 234\n",
      "1422\n"
     ]
    }
   ],
   "source": [
    "HEADERS = ({'User-Agent':\n",
    "            'Mozilla/5.0 (Windows NT 10.0; Win64; x64) \\\n",
    "            AppleWebKit/537.36 (KHTML, like Gecko) \\\n",
    "            Chrome/90.0.4430.212 Safari/537.36',\n",
    "            'Accept-Language': 'en-US, en;q=0.5'})\n",
    "for x in range(0,500):\n",
    "    soup = get_soup(f'https://www.amazon.com/Umbra-Conceal-Floating-Bookshelf-Large/product-reviews/B0053GBC4E/ref=cm_cr_dp_d_show_all_btm?ie=UTF8&reviewerType=all_reviews&pageNumber={x}')\n",
    "    #print(soup)\n",
    "    print(f'Getting page: {x}')\n",
    "    get_reviews(soup)\n",
    "    print(len(review_list))\n",
    "    if not soup.find('li', {'class': 'a-disabled a-last'}):\n",
    "        pass\n",
    "    else:\n",
    "        break"
   ]
  },
  {
   "cell_type": "code",
   "execution_count": 5,
   "metadata": {
    "colab": {
     "base_uri": "https://localhost:8080/",
     "height": 423
    },
    "id": "K_K9RLGuosaD",
    "outputId": "43bb54be-3481-4ae2-e37a-cb3786fdc3c1"
   },
   "outputs": [
    {
     "data": {
      "text/html": [
       "<div>\n",
       "<style scoped>\n",
       "    .dataframe tbody tr th:only-of-type {\n",
       "        vertical-align: middle;\n",
       "    }\n",
       "\n",
       "    .dataframe tbody tr th {\n",
       "        vertical-align: top;\n",
       "    }\n",
       "\n",
       "    .dataframe thead th {\n",
       "        text-align: right;\n",
       "    }\n",
       "</style>\n",
       "<table border=\"1\" class=\"dataframe\">\n",
       "  <thead>\n",
       "    <tr style=\"text-align: right;\">\n",
       "      <th></th>\n",
       "      <th>title</th>\n",
       "      <th>rating</th>\n",
       "      <th>body</th>\n",
       "    </tr>\n",
       "  </thead>\n",
       "  <tbody>\n",
       "    <tr>\n",
       "      <th>0</th>\n",
       "      <td>One of my favorite Amazon purchases ever!</td>\n",
       "      <td>5.0</td>\n",
       "      <td>These are so much fun! We ordered the small si...</td>\n",
       "    </tr>\n",
       "    <tr>\n",
       "      <th>1</th>\n",
       "      <td>As expected but doesn’t fit standard hardcover</td>\n",
       "      <td>4.0</td>\n",
       "      <td>Let me start by saying I’ve got a Master’s deg...</td>\n",
       "    </tr>\n",
       "    <tr>\n",
       "      <th>2</th>\n",
       "      <td>Happy mom day to me</td>\n",
       "      <td>5.0</td>\n",
       "      <td>These are awesome! I should’ve bought the smal...</td>\n",
       "    </tr>\n",
       "    <tr>\n",
       "      <th>3</th>\n",
       "      <td>Perfect for Sonos One</td>\n",
       "      <td>5.0</td>\n",
       "      <td>I wanted to mount a Sonos speaker in my bathro...</td>\n",
       "    </tr>\n",
       "    <tr>\n",
       "      <th>4</th>\n",
       "      <td>Very sturdy even after multiple moves and 5 ye...</td>\n",
       "      <td>5.0</td>\n",
       "      <td>I love these floating bookshelves. They give a...</td>\n",
       "    </tr>\n",
       "    <tr>\n",
       "      <th>...</th>\n",
       "      <td>...</td>\n",
       "      <td>...</td>\n",
       "      <td>...</td>\n",
       "    </tr>\n",
       "    <tr>\n",
       "      <th>1417</th>\n",
       "      <td>Awesome floating shelf</td>\n",
       "      <td>5.0</td>\n",
       "      <td>This is an  shelf and decorator piece. Works p...</td>\n",
       "    </tr>\n",
       "    <tr>\n",
       "      <th>1418</th>\n",
       "      <td>My new fav</td>\n",
       "      <td>5.0</td>\n",
       "      <td>I purchased this on a whim, thinking if I didn...</td>\n",
       "    </tr>\n",
       "    <tr>\n",
       "      <th>1419</th>\n",
       "      <td>great gifts!</td>\n",
       "      <td>5.0</td>\n",
       "      <td>I bought a half dozen of these for my new hous...</td>\n",
       "    </tr>\n",
       "    <tr>\n",
       "      <th>1420</th>\n",
       "      <td>Very unique shelf</td>\n",
       "      <td>5.0</td>\n",
       "      <td>I love this shelf, it is unique and my friends...</td>\n",
       "    </tr>\n",
       "    <tr>\n",
       "      <th>1421</th>\n",
       "      <td>Umbra Invisible Bookshelf</td>\n",
       "      <td>4.0</td>\n",
       "      <td>This is a great product. I bought it at Linens...</td>\n",
       "    </tr>\n",
       "  </tbody>\n",
       "</table>\n",
       "<p>1422 rows × 3 columns</p>\n",
       "</div>"
      ],
      "text/plain": [
       "                                                  title  rating  \\\n",
       "0             One of my favorite Amazon purchases ever!     5.0   \n",
       "1        As expected but doesn’t fit standard hardcover     4.0   \n",
       "2                                   Happy mom day to me     5.0   \n",
       "3                                 Perfect for Sonos One     5.0   \n",
       "4     Very sturdy even after multiple moves and 5 ye...     5.0   \n",
       "...                                                 ...     ...   \n",
       "1417                             Awesome floating shelf     5.0   \n",
       "1418                                         My new fav     5.0   \n",
       "1419                                       great gifts!     5.0   \n",
       "1420                                  Very unique shelf     5.0   \n",
       "1421                          Umbra Invisible Bookshelf     4.0   \n",
       "\n",
       "                                                   body  \n",
       "0     These are so much fun! We ordered the small si...  \n",
       "1     Let me start by saying I’ve got a Master’s deg...  \n",
       "2     These are awesome! I should’ve bought the smal...  \n",
       "3     I wanted to mount a Sonos speaker in my bathro...  \n",
       "4     I love these floating bookshelves. They give a...  \n",
       "...                                                 ...  \n",
       "1417  This is an  shelf and decorator piece. Works p...  \n",
       "1418  I purchased this on a whim, thinking if I didn...  \n",
       "1419  I bought a half dozen of these for my new hous...  \n",
       "1420  I love this shelf, it is unique and my friends...  \n",
       "1421  This is a great product. I bought it at Linens...  \n",
       "\n",
       "[1422 rows x 3 columns]"
      ]
     },
     "execution_count": 5,
     "metadata": {},
     "output_type": "execute_result"
    }
   ],
   "source": [
    "df2 = pd.DataFrame(review_list)\n",
    "df2\n",
    "\n"
   ]
  },
  {
   "cell_type": "code",
   "execution_count": 6,
   "metadata": {
    "colab": {
     "base_uri": "https://localhost:8080/"
    },
    "id": "asmk23WCo_Qk",
    "outputId": "f51d88f5-4f73-430a-db8f-013d2cf16fba"
   },
   "outputs": [
    {
     "data": {
      "text/html": [
       "<div>\n",
       "<style scoped>\n",
       "    .dataframe tbody tr th:only-of-type {\n",
       "        vertical-align: middle;\n",
       "    }\n",
       "\n",
       "    .dataframe tbody tr th {\n",
       "        vertical-align: top;\n",
       "    }\n",
       "\n",
       "    .dataframe thead th {\n",
       "        text-align: right;\n",
       "    }\n",
       "</style>\n",
       "<table border=\"1\" class=\"dataframe\">\n",
       "  <thead>\n",
       "    <tr style=\"text-align: right;\">\n",
       "      <th></th>\n",
       "      <th>rating</th>\n",
       "    </tr>\n",
       "  </thead>\n",
       "  <tbody>\n",
       "    <tr>\n",
       "      <th>count</th>\n",
       "      <td>1422.000000</td>\n",
       "    </tr>\n",
       "    <tr>\n",
       "      <th>mean</th>\n",
       "      <td>4.606188</td>\n",
       "    </tr>\n",
       "    <tr>\n",
       "      <th>std</th>\n",
       "      <td>0.863468</td>\n",
       "    </tr>\n",
       "    <tr>\n",
       "      <th>min</th>\n",
       "      <td>1.000000</td>\n",
       "    </tr>\n",
       "    <tr>\n",
       "      <th>25%</th>\n",
       "      <td>5.000000</td>\n",
       "    </tr>\n",
       "    <tr>\n",
       "      <th>50%</th>\n",
       "      <td>5.000000</td>\n",
       "    </tr>\n",
       "    <tr>\n",
       "      <th>75%</th>\n",
       "      <td>5.000000</td>\n",
       "    </tr>\n",
       "    <tr>\n",
       "      <th>max</th>\n",
       "      <td>5.000000</td>\n",
       "    </tr>\n",
       "  </tbody>\n",
       "</table>\n",
       "</div>"
      ],
      "text/plain": [
       "            rating\n",
       "count  1422.000000\n",
       "mean      4.606188\n",
       "std       0.863468\n",
       "min       1.000000\n",
       "25%       5.000000\n",
       "50%       5.000000\n",
       "75%       5.000000\n",
       "max       5.000000"
      ]
     },
     "execution_count": 6,
     "metadata": {},
     "output_type": "execute_result"
    }
   ],
   "source": [
    "df2.describe()"
   ]
  },
  {
   "cell_type": "code",
   "execution_count": 7,
   "metadata": {
    "colab": {
     "base_uri": "https://localhost:8080/"
    },
    "id": "IRiSWVxWpAcs",
    "outputId": "0d1554e2-fa21-4b77-9156-5eb458cabe02"
   },
   "outputs": [
    {
     "data": {
      "text/plain": [
       "1063"
      ]
     },
     "execution_count": 7,
     "metadata": {},
     "output_type": "execute_result"
    }
   ],
   "source": [
    "df2['title'].nunique()\n"
   ]
  },
  {
   "cell_type": "code",
   "execution_count": 8,
   "metadata": {
    "colab": {
     "base_uri": "https://localhost:8080/"
    },
    "id": "QsOOztBOpFuJ",
    "outputId": "a8a900e9-9bf7-42fa-a65e-31210e04f2f0"
   },
   "outputs": [
    {
     "data": {
      "text/plain": [
       "1397"
      ]
     },
     "execution_count": 8,
     "metadata": {},
     "output_type": "execute_result"
    }
   ],
   "source": [
    "df2['body'].nunique()\n"
   ]
  },
  {
   "cell_type": "code",
   "execution_count": 9,
   "metadata": {
    "colab": {
     "base_uri": "https://localhost:8080/",
     "height": 423
    },
    "id": "C5RHM8utpIFz",
    "outputId": "3eacc051-aa70-493f-809c-e04b46b770f8"
   },
   "outputs": [
    {
     "data": {
      "text/html": [
       "<div>\n",
       "<style scoped>\n",
       "    .dataframe tbody tr th:only-of-type {\n",
       "        vertical-align: middle;\n",
       "    }\n",
       "\n",
       "    .dataframe tbody tr th {\n",
       "        vertical-align: top;\n",
       "    }\n",
       "\n",
       "    .dataframe thead th {\n",
       "        text-align: right;\n",
       "    }\n",
       "</style>\n",
       "<table border=\"1\" class=\"dataframe\">\n",
       "  <thead>\n",
       "    <tr style=\"text-align: right;\">\n",
       "      <th></th>\n",
       "      <th>title</th>\n",
       "      <th>rating</th>\n",
       "      <th>body</th>\n",
       "    </tr>\n",
       "  </thead>\n",
       "  <tbody>\n",
       "    <tr>\n",
       "      <th>0</th>\n",
       "      <td>One of my favorite Amazon purchases ever!</td>\n",
       "      <td>5.0</td>\n",
       "      <td>These are so much fun! We ordered the small si...</td>\n",
       "    </tr>\n",
       "    <tr>\n",
       "      <th>1</th>\n",
       "      <td>As expected but doesn’t fit standard hardcover</td>\n",
       "      <td>4.0</td>\n",
       "      <td>Let me start by saying I’ve got a Master’s deg...</td>\n",
       "    </tr>\n",
       "    <tr>\n",
       "      <th>2</th>\n",
       "      <td>Happy mom day to me</td>\n",
       "      <td>5.0</td>\n",
       "      <td>These are awesome! I should’ve bought the smal...</td>\n",
       "    </tr>\n",
       "    <tr>\n",
       "      <th>3</th>\n",
       "      <td>Perfect for Sonos One</td>\n",
       "      <td>5.0</td>\n",
       "      <td>I wanted to mount a Sonos speaker in my bathro...</td>\n",
       "    </tr>\n",
       "    <tr>\n",
       "      <th>4</th>\n",
       "      <td>Very sturdy even after multiple moves and 5 ye...</td>\n",
       "      <td>5.0</td>\n",
       "      <td>I love these floating bookshelves. They give a...</td>\n",
       "    </tr>\n",
       "    <tr>\n",
       "      <th>...</th>\n",
       "      <td>...</td>\n",
       "      <td>...</td>\n",
       "      <td>...</td>\n",
       "    </tr>\n",
       "    <tr>\n",
       "      <th>1417</th>\n",
       "      <td>Awesome floating shelf</td>\n",
       "      <td>5.0</td>\n",
       "      <td>This is an  shelf and decorator piece. Works p...</td>\n",
       "    </tr>\n",
       "    <tr>\n",
       "      <th>1418</th>\n",
       "      <td>My new fav</td>\n",
       "      <td>5.0</td>\n",
       "      <td>I purchased this on a whim, thinking if I didn...</td>\n",
       "    </tr>\n",
       "    <tr>\n",
       "      <th>1419</th>\n",
       "      <td>great gifts!</td>\n",
       "      <td>5.0</td>\n",
       "      <td>I bought a half dozen of these for my new hous...</td>\n",
       "    </tr>\n",
       "    <tr>\n",
       "      <th>1420</th>\n",
       "      <td>Very unique shelf</td>\n",
       "      <td>5.0</td>\n",
       "      <td>I love this shelf, it is unique and my friends...</td>\n",
       "    </tr>\n",
       "    <tr>\n",
       "      <th>1421</th>\n",
       "      <td>Umbra Invisible Bookshelf</td>\n",
       "      <td>4.0</td>\n",
       "      <td>This is a great product. I bought it at Linens...</td>\n",
       "    </tr>\n",
       "  </tbody>\n",
       "</table>\n",
       "<p>1422 rows × 3 columns</p>\n",
       "</div>"
      ],
      "text/plain": [
       "                                                  title  rating  \\\n",
       "0             One of my favorite Amazon purchases ever!     5.0   \n",
       "1        As expected but doesn’t fit standard hardcover     4.0   \n",
       "2                                   Happy mom day to me     5.0   \n",
       "3                                 Perfect for Sonos One     5.0   \n",
       "4     Very sturdy even after multiple moves and 5 ye...     5.0   \n",
       "...                                                 ...     ...   \n",
       "1417                             Awesome floating shelf     5.0   \n",
       "1418                                         My new fav     5.0   \n",
       "1419                                       great gifts!     5.0   \n",
       "1420                                  Very unique shelf     5.0   \n",
       "1421                          Umbra Invisible Bookshelf     4.0   \n",
       "\n",
       "                                                   body  \n",
       "0     These are so much fun! We ordered the small si...  \n",
       "1     Let me start by saying I’ve got a Master’s deg...  \n",
       "2     These are awesome! I should’ve bought the smal...  \n",
       "3     I wanted to mount a Sonos speaker in my bathro...  \n",
       "4     I love these floating bookshelves. They give a...  \n",
       "...                                                 ...  \n",
       "1417  This is an  shelf and decorator piece. Works p...  \n",
       "1418  I purchased this on a whim, thinking if I didn...  \n",
       "1419  I bought a half dozen of these for my new hous...  \n",
       "1420  I love this shelf, it is unique and my friends...  \n",
       "1421  This is a great product. I bought it at Linens...  \n",
       "\n",
       "[1422 rows x 3 columns]"
      ]
     },
     "execution_count": 9,
     "metadata": {},
     "output_type": "execute_result"
    }
   ],
   "source": [
    "df2 = pd.DataFrame(review_list)\n",
    "df2.to_csv(r'az_bookshelf.csv', index=False)\n",
    "df2"
   ]
  },
  {
   "cell_type": "code",
   "execution_count": 10,
   "metadata": {
    "colab": {
     "base_uri": "https://localhost:8080/"
    },
    "id": "q6daLPX0pTlI",
    "outputId": "b27e3859-69a2-4d9e-8203-9f4cd4de4b36"
   },
   "outputs": [
    {
     "name": "stderr",
     "output_type": "stream",
     "text": [
      "[nltk_data] Downloading package stopwords to C:\\Users\\Sainath A\n",
      "[nltk_data]     R\\AppData\\Roaming\\nltk_data...\n",
      "[nltk_data]   Package stopwords is already up-to-date!\n"
     ]
    },
    {
     "data": {
      "text/plain": [
       "True"
      ]
     },
     "execution_count": 10,
     "metadata": {},
     "output_type": "execute_result"
    }
   ],
   "source": [
    "\n",
    "from nltk.corpus import stopwords\n",
    "from nltk.stem import PorterStemmer\n",
    "import nltk\n",
    "import re\n",
    "import string\n",
    "nltk.download(\"stopwords\")"
   ]
  },
  {
   "cell_type": "code",
   "execution_count": 11,
   "metadata": {
    "id": "kqe_iKXqrY85"
   },
   "outputs": [],
   "source": [
    "def classify(x):\n",
    "    if x == 5.0 or x==4.0:\n",
    "        return 2\n",
    "    if x==3.0:\n",
    "        return 1 \n",
    "    return 0"
   ]
  },
  {
   "cell_type": "code",
   "execution_count": 12,
   "metadata": {
    "id": "AWoK6Pi0rpk-"
   },
   "outputs": [],
   "source": [
    "def clean_dataframe(df2):\n",
    "  # creates new column with corresponding class labels, the output variable().\n",
    "  df2['y'] = df2['rating'].apply(classify)\n"
   ]
  },
  {
   "cell_type": "code",
   "execution_count": 13,
   "metadata": {
    "id": "WHqag59Vrz_8"
   },
   "outputs": [],
   "source": [
    "clean_dataframe(df2)"
   ]
  },
  {
   "cell_type": "code",
   "execution_count": 14,
   "metadata": {
    "colab": {
     "base_uri": "https://localhost:8080/",
     "height": 423
    },
    "id": "ZAYiLERKr2db",
    "outputId": "cbf4e2d9-f7d0-47bd-80f8-73ba7ee8905a"
   },
   "outputs": [
    {
     "data": {
      "text/html": [
       "<div>\n",
       "<style scoped>\n",
       "    .dataframe tbody tr th:only-of-type {\n",
       "        vertical-align: middle;\n",
       "    }\n",
       "\n",
       "    .dataframe tbody tr th {\n",
       "        vertical-align: top;\n",
       "    }\n",
       "\n",
       "    .dataframe thead th {\n",
       "        text-align: right;\n",
       "    }\n",
       "</style>\n",
       "<table border=\"1\" class=\"dataframe\">\n",
       "  <thead>\n",
       "    <tr style=\"text-align: right;\">\n",
       "      <th></th>\n",
       "      <th>title</th>\n",
       "      <th>rating</th>\n",
       "      <th>body</th>\n",
       "      <th>y</th>\n",
       "    </tr>\n",
       "  </thead>\n",
       "  <tbody>\n",
       "    <tr>\n",
       "      <th>0</th>\n",
       "      <td>One of my favorite Amazon purchases ever!</td>\n",
       "      <td>5.0</td>\n",
       "      <td>These are so much fun! We ordered the small si...</td>\n",
       "      <td>2</td>\n",
       "    </tr>\n",
       "    <tr>\n",
       "      <th>1</th>\n",
       "      <td>As expected but doesn’t fit standard hardcover</td>\n",
       "      <td>4.0</td>\n",
       "      <td>Let me start by saying I’ve got a Master’s deg...</td>\n",
       "      <td>2</td>\n",
       "    </tr>\n",
       "    <tr>\n",
       "      <th>2</th>\n",
       "      <td>Happy mom day to me</td>\n",
       "      <td>5.0</td>\n",
       "      <td>These are awesome! I should’ve bought the smal...</td>\n",
       "      <td>2</td>\n",
       "    </tr>\n",
       "    <tr>\n",
       "      <th>3</th>\n",
       "      <td>Perfect for Sonos One</td>\n",
       "      <td>5.0</td>\n",
       "      <td>I wanted to mount a Sonos speaker in my bathro...</td>\n",
       "      <td>2</td>\n",
       "    </tr>\n",
       "    <tr>\n",
       "      <th>4</th>\n",
       "      <td>Very sturdy even after multiple moves and 5 ye...</td>\n",
       "      <td>5.0</td>\n",
       "      <td>I love these floating bookshelves. They give a...</td>\n",
       "      <td>2</td>\n",
       "    </tr>\n",
       "    <tr>\n",
       "      <th>...</th>\n",
       "      <td>...</td>\n",
       "      <td>...</td>\n",
       "      <td>...</td>\n",
       "      <td>...</td>\n",
       "    </tr>\n",
       "    <tr>\n",
       "      <th>1417</th>\n",
       "      <td>Awesome floating shelf</td>\n",
       "      <td>5.0</td>\n",
       "      <td>This is an  shelf and decorator piece. Works p...</td>\n",
       "      <td>2</td>\n",
       "    </tr>\n",
       "    <tr>\n",
       "      <th>1418</th>\n",
       "      <td>My new fav</td>\n",
       "      <td>5.0</td>\n",
       "      <td>I purchased this on a whim, thinking if I didn...</td>\n",
       "      <td>2</td>\n",
       "    </tr>\n",
       "    <tr>\n",
       "      <th>1419</th>\n",
       "      <td>great gifts!</td>\n",
       "      <td>5.0</td>\n",
       "      <td>I bought a half dozen of these for my new hous...</td>\n",
       "      <td>2</td>\n",
       "    </tr>\n",
       "    <tr>\n",
       "      <th>1420</th>\n",
       "      <td>Very unique shelf</td>\n",
       "      <td>5.0</td>\n",
       "      <td>I love this shelf, it is unique and my friends...</td>\n",
       "      <td>2</td>\n",
       "    </tr>\n",
       "    <tr>\n",
       "      <th>1421</th>\n",
       "      <td>Umbra Invisible Bookshelf</td>\n",
       "      <td>4.0</td>\n",
       "      <td>This is a great product. I bought it at Linens...</td>\n",
       "      <td>2</td>\n",
       "    </tr>\n",
       "  </tbody>\n",
       "</table>\n",
       "<p>1422 rows × 4 columns</p>\n",
       "</div>"
      ],
      "text/plain": [
       "                                                  title  rating  \\\n",
       "0             One of my favorite Amazon purchases ever!     5.0   \n",
       "1        As expected but doesn’t fit standard hardcover     4.0   \n",
       "2                                   Happy mom day to me     5.0   \n",
       "3                                 Perfect for Sonos One     5.0   \n",
       "4     Very sturdy even after multiple moves and 5 ye...     5.0   \n",
       "...                                                 ...     ...   \n",
       "1417                             Awesome floating shelf     5.0   \n",
       "1418                                         My new fav     5.0   \n",
       "1419                                       great gifts!     5.0   \n",
       "1420                                  Very unique shelf     5.0   \n",
       "1421                          Umbra Invisible Bookshelf     4.0   \n",
       "\n",
       "                                                   body  y  \n",
       "0     These are so much fun! We ordered the small si...  2  \n",
       "1     Let me start by saying I’ve got a Master’s deg...  2  \n",
       "2     These are awesome! I should’ve bought the smal...  2  \n",
       "3     I wanted to mount a Sonos speaker in my bathro...  2  \n",
       "4     I love these floating bookshelves. They give a...  2  \n",
       "...                                                 ... ..  \n",
       "1417  This is an  shelf and decorator piece. Works p...  2  \n",
       "1418  I purchased this on a whim, thinking if I didn...  2  \n",
       "1419  I bought a half dozen of these for my new hous...  2  \n",
       "1420  I love this shelf, it is unique and my friends...  2  \n",
       "1421  This is a great product. I bought it at Linens...  2  \n",
       "\n",
       "[1422 rows x 4 columns]"
      ]
     },
     "execution_count": 14,
     "metadata": {},
     "output_type": "execute_result"
    }
   ],
   "source": [
    "df2"
   ]
  },
  {
   "cell_type": "code",
   "execution_count": 15,
   "metadata": {},
   "outputs": [
    {
     "data": {
      "text/html": [
       "<div>\n",
       "<style scoped>\n",
       "    .dataframe tbody tr th:only-of-type {\n",
       "        vertical-align: middle;\n",
       "    }\n",
       "\n",
       "    .dataframe tbody tr th {\n",
       "        vertical-align: top;\n",
       "    }\n",
       "\n",
       "    .dataframe thead th {\n",
       "        text-align: right;\n",
       "    }\n",
       "</style>\n",
       "<table border=\"1\" class=\"dataframe\">\n",
       "  <thead>\n",
       "    <tr style=\"text-align: right;\">\n",
       "      <th></th>\n",
       "      <th>rating</th>\n",
       "      <th>y</th>\n",
       "    </tr>\n",
       "  </thead>\n",
       "  <tbody>\n",
       "    <tr>\n",
       "      <th>count</th>\n",
       "      <td>1422.000000</td>\n",
       "      <td>1422.000000</td>\n",
       "    </tr>\n",
       "    <tr>\n",
       "      <th>mean</th>\n",
       "      <td>4.606188</td>\n",
       "      <td>1.864276</td>\n",
       "    </tr>\n",
       "    <tr>\n",
       "      <th>std</th>\n",
       "      <td>0.863468</td>\n",
       "      <td>0.461620</td>\n",
       "    </tr>\n",
       "    <tr>\n",
       "      <th>min</th>\n",
       "      <td>1.000000</td>\n",
       "      <td>0.000000</td>\n",
       "    </tr>\n",
       "    <tr>\n",
       "      <th>25%</th>\n",
       "      <td>5.000000</td>\n",
       "      <td>2.000000</td>\n",
       "    </tr>\n",
       "    <tr>\n",
       "      <th>50%</th>\n",
       "      <td>5.000000</td>\n",
       "      <td>2.000000</td>\n",
       "    </tr>\n",
       "    <tr>\n",
       "      <th>75%</th>\n",
       "      <td>5.000000</td>\n",
       "      <td>2.000000</td>\n",
       "    </tr>\n",
       "    <tr>\n",
       "      <th>max</th>\n",
       "      <td>5.000000</td>\n",
       "      <td>2.000000</td>\n",
       "    </tr>\n",
       "  </tbody>\n",
       "</table>\n",
       "</div>"
      ],
      "text/plain": [
       "            rating            y\n",
       "count  1422.000000  1422.000000\n",
       "mean      4.606188     1.864276\n",
       "std       0.863468     0.461620\n",
       "min       1.000000     0.000000\n",
       "25%       5.000000     2.000000\n",
       "50%       5.000000     2.000000\n",
       "75%       5.000000     2.000000\n",
       "max       5.000000     2.000000"
      ]
     },
     "execution_count": 15,
     "metadata": {},
     "output_type": "execute_result"
    }
   ],
   "source": [
    "df2.describe()"
   ]
  },
  {
   "cell_type": "code",
   "execution_count": 16,
   "metadata": {
    "colab": {
     "base_uri": "https://localhost:8080/"
    },
    "id": "z45Qiz4VsIdn",
    "outputId": "80a6e2c4-b1d4-480f-90f8-3f37fc29921f"
   },
   "outputs": [
    {
     "data": {
      "text/plain": [
       "0       These are so much fun! We ordered the small si...\n",
       "1       Let me start by saying I’ve got a Master’s deg...\n",
       "2       These are awesome! I should’ve bought the smal...\n",
       "3       I wanted to mount a Sonos speaker in my bathro...\n",
       "4       I love these floating bookshelves. They give a...\n",
       "                              ...                        \n",
       "1417    This is an  shelf and decorator piece. Works p...\n",
       "1418    I purchased this on a whim, thinking if I didn...\n",
       "1419    I bought a half dozen of these for my new hous...\n",
       "1420    I love this shelf, it is unique and my friends...\n",
       "1421    This is a great product. I bought it at Linens...\n",
       "Name: body, Length: 1422, dtype: object"
      ]
     },
     "execution_count": 16,
     "metadata": {},
     "output_type": "execute_result"
    }
   ],
   "source": [
    "df2['body']\n"
   ]
  },
  {
   "cell_type": "code",
   "execution_count": 17,
   "metadata": {
    "id": "DP9lEGJ1sNdn"
   },
   "outputs": [],
   "source": [
    "# removes all the punctuations ie '!\"#$%&\\'()*+,-./:;<=>?@[\\\\]^_`{|}~'\n",
    "import string\n",
    "def remove_punctuation(text):\n",
    "    no_punct=[words for words in text if words not in string.punctuation]\n",
    "    words_wo_punct=''.join(no_punct)\n",
    "    return words_wo_punct"
   ]
  },
  {
   "cell_type": "code",
   "execution_count": 18,
   "metadata": {
    "id": "fS797utqsRWE"
   },
   "outputs": [],
   "source": [
    "def text_process(df):\n",
    "    df['body']=df['body'].apply(lambda x: remove_punctuation(x.lower())) # Removing all the punctuations from the words, and changing the words to lower case to maintain uniformity\n",
    "    stemmer = PorterStemmer() # stemming\n",
    "    words = stopwords.words(\"english\") # stop words example: \"the, I, our etc\"\n",
    "    df['cleaned_reviews']= df['body'].apply(lambda x: \" \".join([stemmer.stem(i) for i in re.sub(\"[^a-zA-Z]\", \" \", x).split() if i not in words]).lower())\n",
    "    return df"
   ]
  },
  {
   "cell_type": "code",
   "execution_count": 19,
   "metadata": {
    "colab": {
     "base_uri": "https://localhost:8080/",
     "height": 641
    },
    "id": "_FVURIJ7sUgG",
    "outputId": "b3759c87-833b-4eb6-f546-082516895395"
   },
   "outputs": [
    {
     "data": {
      "text/html": [
       "<div>\n",
       "<style scoped>\n",
       "    .dataframe tbody tr th:only-of-type {\n",
       "        vertical-align: middle;\n",
       "    }\n",
       "\n",
       "    .dataframe tbody tr th {\n",
       "        vertical-align: top;\n",
       "    }\n",
       "\n",
       "    .dataframe thead th {\n",
       "        text-align: right;\n",
       "    }\n",
       "</style>\n",
       "<table border=\"1\" class=\"dataframe\">\n",
       "  <thead>\n",
       "    <tr style=\"text-align: right;\">\n",
       "      <th></th>\n",
       "      <th>title</th>\n",
       "      <th>rating</th>\n",
       "      <th>body</th>\n",
       "      <th>y</th>\n",
       "      <th>cleaned_reviews</th>\n",
       "    </tr>\n",
       "  </thead>\n",
       "  <tbody>\n",
       "    <tr>\n",
       "      <th>0</th>\n",
       "      <td>One of my favorite Amazon purchases ever!</td>\n",
       "      <td>5.0</td>\n",
       "      <td>these are so much fun we ordered the small siz...</td>\n",
       "      <td>2</td>\n",
       "      <td>much fun order small size fit standard hardbac...</td>\n",
       "    </tr>\n",
       "    <tr>\n",
       "      <th>1</th>\n",
       "      <td>As expected but doesn’t fit standard hardcover</td>\n",
       "      <td>4.0</td>\n",
       "      <td>let me start by saying i’ve got a master’s deg...</td>\n",
       "      <td>2</td>\n",
       "      <td>let start say got master degre english clearli...</td>\n",
       "    </tr>\n",
       "    <tr>\n",
       "      <th>2</th>\n",
       "      <td>Happy mom day to me</td>\n",
       "      <td>5.0</td>\n",
       "      <td>these are awesome i should’ve bought the small...</td>\n",
       "      <td>2</td>\n",
       "      <td>awesom bought small mani larg book use conceal...</td>\n",
       "    </tr>\n",
       "    <tr>\n",
       "      <th>3</th>\n",
       "      <td>Perfect for Sonos One</td>\n",
       "      <td>5.0</td>\n",
       "      <td>i wanted to mount a sonos speaker in my bathro...</td>\n",
       "      <td>2</td>\n",
       "      <td>want mount sono speaker bathroom drill marbl t...</td>\n",
       "    </tr>\n",
       "    <tr>\n",
       "      <th>4</th>\n",
       "      <td>Very sturdy even after multiple moves and 5 ye...</td>\n",
       "      <td>5.0</td>\n",
       "      <td>i love these floating bookshelves they give a ...</td>\n",
       "      <td>2</td>\n",
       "      <td>love float bookshelv give magic feel room boug...</td>\n",
       "    </tr>\n",
       "    <tr>\n",
       "      <th>...</th>\n",
       "      <td>...</td>\n",
       "      <td>...</td>\n",
       "      <td>...</td>\n",
       "      <td>...</td>\n",
       "      <td>...</td>\n",
       "    </tr>\n",
       "    <tr>\n",
       "      <th>1417</th>\n",
       "      <td>Awesome floating shelf</td>\n",
       "      <td>5.0</td>\n",
       "      <td>this is an  shelf and decorator piece works pe...</td>\n",
       "      <td>2</td>\n",
       "      <td>shelf decor piec work perfectli cumbersom shel...</td>\n",
       "    </tr>\n",
       "    <tr>\n",
       "      <th>1418</th>\n",
       "      <td>My new fav</td>\n",
       "      <td>5.0</td>\n",
       "      <td>i purchased this on a whim thinking if i didnt...</td>\n",
       "      <td>2</td>\n",
       "      <td>purchas whim think didnt like could put offic ...</td>\n",
       "    </tr>\n",
       "    <tr>\n",
       "      <th>1419</th>\n",
       "      <td>great gifts!</td>\n",
       "      <td>5.0</td>\n",
       "      <td>i bought a half dozen of these for my new hous...</td>\n",
       "      <td>2</td>\n",
       "      <td>bought half dozen new hous id want forev came ...</td>\n",
       "    </tr>\n",
       "    <tr>\n",
       "      <th>1420</th>\n",
       "      <td>Very unique shelf</td>\n",
       "      <td>5.0</td>\n",
       "      <td>i love this shelf it is unique and my friends ...</td>\n",
       "      <td>2</td>\n",
       "      <td>love shelf uniqu friend alway amus bought one ...</td>\n",
       "    </tr>\n",
       "    <tr>\n",
       "      <th>1421</th>\n",
       "      <td>Umbra Invisible Bookshelf</td>\n",
       "      <td>4.0</td>\n",
       "      <td>this is a great product i bought it at linensn...</td>\n",
       "      <td>2</td>\n",
       "      <td>great product bought linensnth threedollar</td>\n",
       "    </tr>\n",
       "  </tbody>\n",
       "</table>\n",
       "<p>1422 rows × 5 columns</p>\n",
       "</div>"
      ],
      "text/plain": [
       "                                                  title  rating  \\\n",
       "0             One of my favorite Amazon purchases ever!     5.0   \n",
       "1        As expected but doesn’t fit standard hardcover     4.0   \n",
       "2                                   Happy mom day to me     5.0   \n",
       "3                                 Perfect for Sonos One     5.0   \n",
       "4     Very sturdy even after multiple moves and 5 ye...     5.0   \n",
       "...                                                 ...     ...   \n",
       "1417                             Awesome floating shelf     5.0   \n",
       "1418                                         My new fav     5.0   \n",
       "1419                                       great gifts!     5.0   \n",
       "1420                                  Very unique shelf     5.0   \n",
       "1421                          Umbra Invisible Bookshelf     4.0   \n",
       "\n",
       "                                                   body  y  \\\n",
       "0     these are so much fun we ordered the small siz...  2   \n",
       "1     let me start by saying i’ve got a master’s deg...  2   \n",
       "2     these are awesome i should’ve bought the small...  2   \n",
       "3     i wanted to mount a sonos speaker in my bathro...  2   \n",
       "4     i love these floating bookshelves they give a ...  2   \n",
       "...                                                 ... ..   \n",
       "1417  this is an  shelf and decorator piece works pe...  2   \n",
       "1418  i purchased this on a whim thinking if i didnt...  2   \n",
       "1419  i bought a half dozen of these for my new hous...  2   \n",
       "1420  i love this shelf it is unique and my friends ...  2   \n",
       "1421  this is a great product i bought it at linensn...  2   \n",
       "\n",
       "                                        cleaned_reviews  \n",
       "0     much fun order small size fit standard hardbac...  \n",
       "1     let start say got master degre english clearli...  \n",
       "2     awesom bought small mani larg book use conceal...  \n",
       "3     want mount sono speaker bathroom drill marbl t...  \n",
       "4     love float bookshelv give magic feel room boug...  \n",
       "...                                                 ...  \n",
       "1417  shelf decor piec work perfectli cumbersom shel...  \n",
       "1418  purchas whim think didnt like could put offic ...  \n",
       "1419  bought half dozen new hous id want forev came ...  \n",
       "1420  love shelf uniqu friend alway amus bought one ...  \n",
       "1421         great product bought linensnth threedollar  \n",
       "\n",
       "[1422 rows x 5 columns]"
      ]
     },
     "execution_count": 19,
     "metadata": {},
     "output_type": "execute_result"
    }
   ],
   "source": [
    "text_process(df2)\n"
   ]
  },
  {
   "cell_type": "code",
   "execution_count": 20,
   "metadata": {
    "colab": {
     "base_uri": "https://localhost:8080/"
    },
    "id": "7IdQ89LCsYFN",
    "outputId": "535e3101-e29e-4219-9476-3526fd01b9b7"
   },
   "outputs": [
    {
     "data": {
      "text/plain": [
       "(0       these are so much fun we ordered the small siz...\n",
       " 1       let me start by saying i’ve got a master’s deg...\n",
       " 2       these are awesome i should’ve bought the small...\n",
       " 3       i wanted to mount a sonos speaker in my bathro...\n",
       " 4       i love these floating bookshelves they give a ...\n",
       "                               ...                        \n",
       " 1417    this is an  shelf and decorator piece works pe...\n",
       " 1418    i purchased this on a whim thinking if i didnt...\n",
       " 1419    i bought a half dozen of these for my new hous...\n",
       " 1420    i love this shelf it is unique and my friends ...\n",
       " 1421    this is a great product i bought it at linensn...\n",
       " Name: body, Length: 1422, dtype: object,\n",
       " 0       much fun order small size fit standard hardbac...\n",
       " 1       let start say got master degre english clearli...\n",
       " 2       awesom bought small mani larg book use conceal...\n",
       " 3       want mount sono speaker bathroom drill marbl t...\n",
       " 4       love float bookshelv give magic feel room boug...\n",
       "                               ...                        \n",
       " 1417    shelf decor piec work perfectli cumbersom shel...\n",
       " 1418    purchas whim think didnt like could put offic ...\n",
       " 1419    bought half dozen new hous id want forev came ...\n",
       " 1420    love shelf uniqu friend alway amus bought one ...\n",
       " 1421           great product bought linensnth threedollar\n",
       " Name: cleaned_reviews, Length: 1422, dtype: object)"
      ]
     },
     "execution_count": 20,
     "metadata": {},
     "output_type": "execute_result"
    }
   ],
   "source": [
    "df2['body'],df2['cleaned_reviews']\n"
   ]
  },
  {
   "cell_type": "code",
   "execution_count": 21,
   "metadata": {
    "id": "W8ywjU7isgaT"
   },
   "outputs": [],
   "source": [
    "new_df = pd.DataFrame(df2)\n",
    "new_df.to_csv(r'updated_dataset.csv', index=False)"
   ]
  },
  {
   "cell_type": "code",
   "execution_count": 22,
   "metadata": {
    "colab": {
     "base_uri": "https://localhost:8080/",
     "height": 641
    },
    "id": "HbCvs4UxsplH",
    "outputId": "a38a0a39-c794-42cd-b53a-c458b8f19991"
   },
   "outputs": [
    {
     "data": {
      "text/html": [
       "<div>\n",
       "<style scoped>\n",
       "    .dataframe tbody tr th:only-of-type {\n",
       "        vertical-align: middle;\n",
       "    }\n",
       "\n",
       "    .dataframe tbody tr th {\n",
       "        vertical-align: top;\n",
       "    }\n",
       "\n",
       "    .dataframe thead th {\n",
       "        text-align: right;\n",
       "    }\n",
       "</style>\n",
       "<table border=\"1\" class=\"dataframe\">\n",
       "  <thead>\n",
       "    <tr style=\"text-align: right;\">\n",
       "      <th></th>\n",
       "      <th>title</th>\n",
       "      <th>rating</th>\n",
       "      <th>body</th>\n",
       "      <th>y</th>\n",
       "      <th>cleaned_reviews</th>\n",
       "    </tr>\n",
       "  </thead>\n",
       "  <tbody>\n",
       "    <tr>\n",
       "      <th>0</th>\n",
       "      <td>One of my favorite Amazon purchases ever!</td>\n",
       "      <td>5.0</td>\n",
       "      <td>these are so much fun we ordered the small siz...</td>\n",
       "      <td>2</td>\n",
       "      <td>much fun order small size fit standard hardbac...</td>\n",
       "    </tr>\n",
       "    <tr>\n",
       "      <th>1</th>\n",
       "      <td>As expected but doesn’t fit standard hardcover</td>\n",
       "      <td>4.0</td>\n",
       "      <td>let me start by saying i’ve got a master’s deg...</td>\n",
       "      <td>2</td>\n",
       "      <td>let start say got master degre english clearli...</td>\n",
       "    </tr>\n",
       "    <tr>\n",
       "      <th>2</th>\n",
       "      <td>Happy mom day to me</td>\n",
       "      <td>5.0</td>\n",
       "      <td>these are awesome i should’ve bought the small...</td>\n",
       "      <td>2</td>\n",
       "      <td>awesom bought small mani larg book use conceal...</td>\n",
       "    </tr>\n",
       "    <tr>\n",
       "      <th>3</th>\n",
       "      <td>Perfect for Sonos One</td>\n",
       "      <td>5.0</td>\n",
       "      <td>i wanted to mount a sonos speaker in my bathro...</td>\n",
       "      <td>2</td>\n",
       "      <td>want mount sono speaker bathroom drill marbl t...</td>\n",
       "    </tr>\n",
       "    <tr>\n",
       "      <th>4</th>\n",
       "      <td>Very sturdy even after multiple moves and 5 ye...</td>\n",
       "      <td>5.0</td>\n",
       "      <td>i love these floating bookshelves they give a ...</td>\n",
       "      <td>2</td>\n",
       "      <td>love float bookshelv give magic feel room boug...</td>\n",
       "    </tr>\n",
       "    <tr>\n",
       "      <th>...</th>\n",
       "      <td>...</td>\n",
       "      <td>...</td>\n",
       "      <td>...</td>\n",
       "      <td>...</td>\n",
       "      <td>...</td>\n",
       "    </tr>\n",
       "    <tr>\n",
       "      <th>1417</th>\n",
       "      <td>Awesome floating shelf</td>\n",
       "      <td>5.0</td>\n",
       "      <td>this is an  shelf and decorator piece works pe...</td>\n",
       "      <td>2</td>\n",
       "      <td>shelf decor piec work perfectli cumbersom shel...</td>\n",
       "    </tr>\n",
       "    <tr>\n",
       "      <th>1418</th>\n",
       "      <td>My new fav</td>\n",
       "      <td>5.0</td>\n",
       "      <td>i purchased this on a whim thinking if i didnt...</td>\n",
       "      <td>2</td>\n",
       "      <td>purchas whim think didnt like could put offic ...</td>\n",
       "    </tr>\n",
       "    <tr>\n",
       "      <th>1419</th>\n",
       "      <td>great gifts!</td>\n",
       "      <td>5.0</td>\n",
       "      <td>i bought a half dozen of these for my new hous...</td>\n",
       "      <td>2</td>\n",
       "      <td>bought half dozen new hous id want forev came ...</td>\n",
       "    </tr>\n",
       "    <tr>\n",
       "      <th>1420</th>\n",
       "      <td>Very unique shelf</td>\n",
       "      <td>5.0</td>\n",
       "      <td>i love this shelf it is unique and my friends ...</td>\n",
       "      <td>2</td>\n",
       "      <td>love shelf uniqu friend alway amus bought one ...</td>\n",
       "    </tr>\n",
       "    <tr>\n",
       "      <th>1421</th>\n",
       "      <td>Umbra Invisible Bookshelf</td>\n",
       "      <td>4.0</td>\n",
       "      <td>this is a great product i bought it at linensn...</td>\n",
       "      <td>2</td>\n",
       "      <td>great product bought linensnth threedollar</td>\n",
       "    </tr>\n",
       "  </tbody>\n",
       "</table>\n",
       "<p>1422 rows × 5 columns</p>\n",
       "</div>"
      ],
      "text/plain": [
       "                                                  title  rating  \\\n",
       "0             One of my favorite Amazon purchases ever!     5.0   \n",
       "1        As expected but doesn’t fit standard hardcover     4.0   \n",
       "2                                   Happy mom day to me     5.0   \n",
       "3                                 Perfect for Sonos One     5.0   \n",
       "4     Very sturdy even after multiple moves and 5 ye...     5.0   \n",
       "...                                                 ...     ...   \n",
       "1417                             Awesome floating shelf     5.0   \n",
       "1418                                         My new fav     5.0   \n",
       "1419                                       great gifts!     5.0   \n",
       "1420                                  Very unique shelf     5.0   \n",
       "1421                          Umbra Invisible Bookshelf     4.0   \n",
       "\n",
       "                                                   body  y  \\\n",
       "0     these are so much fun we ordered the small siz...  2   \n",
       "1     let me start by saying i’ve got a master’s deg...  2   \n",
       "2     these are awesome i should’ve bought the small...  2   \n",
       "3     i wanted to mount a sonos speaker in my bathro...  2   \n",
       "4     i love these floating bookshelves they give a ...  2   \n",
       "...                                                 ... ..   \n",
       "1417  this is an  shelf and decorator piece works pe...  2   \n",
       "1418  i purchased this on a whim thinking if i didnt...  2   \n",
       "1419  i bought a half dozen of these for my new hous...  2   \n",
       "1420  i love this shelf it is unique and my friends ...  2   \n",
       "1421  this is a great product i bought it at linensn...  2   \n",
       "\n",
       "                                        cleaned_reviews  \n",
       "0     much fun order small size fit standard hardbac...  \n",
       "1     let start say got master degre english clearli...  \n",
       "2     awesom bought small mani larg book use conceal...  \n",
       "3     want mount sono speaker bathroom drill marbl t...  \n",
       "4     love float bookshelv give magic feel room boug...  \n",
       "...                                                 ...  \n",
       "1417  shelf decor piec work perfectli cumbersom shel...  \n",
       "1418  purchas whim think didnt like could put offic ...  \n",
       "1419  bought half dozen new hous id want forev came ...  \n",
       "1420  love shelf uniqu friend alway amus bought one ...  \n",
       "1421         great product bought linensnth threedollar  \n",
       "\n",
       "[1422 rows x 5 columns]"
      ]
     },
     "execution_count": 22,
     "metadata": {},
     "output_type": "execute_result"
    }
   ],
   "source": [
    "new_df"
   ]
  },
  {
   "cell_type": "code",
   "execution_count": 23,
   "metadata": {
    "colab": {
     "base_uri": "https://localhost:8080/"
    },
    "id": "ZxpxLhY4suyH",
    "outputId": "f2981e8a-35e7-4fda-fc05-04b221af5862"
   },
   "outputs": [
    {
     "data": {
      "text/plain": [
       "title              0\n",
       "rating             0\n",
       "body               0\n",
       "y                  0\n",
       "cleaned_reviews    0\n",
       "dtype: int64"
      ]
     },
     "execution_count": 23,
     "metadata": {},
     "output_type": "execute_result"
    }
   ],
   "source": [
    "new_df.isna().sum()"
   ]
  },
  {
   "cell_type": "code",
   "execution_count": 24,
   "metadata": {
    "colab": {
     "base_uri": "https://localhost:8080/"
    },
    "id": "fDbVahigs1Qj",
    "outputId": "6d74aff1-0d50-4426-cbde-41a044a55307"
   },
   "outputs": [
    {
     "data": {
      "text/plain": [
       "array(['good', 'bad', 'moderate'], dtype=object)"
      ]
     },
     "execution_count": 24,
     "metadata": {},
     "output_type": "execute_result"
    }
   ],
   "source": [
    "# Changes the overall category \n",
    "new_df[\"classes\"] = new_df[\"rating\"]\n",
    "new_df[\"classes\"].replace({5.0: \"good\",4.0:\"good\",3.0:\"moderate\",2.0:\"bad\",1.0:\"bad\"}, inplace=True)\n",
    "new_df[\"classes\"].unique()"
   ]
  },
  {
   "cell_type": "code",
   "execution_count": 25,
   "metadata": {
    "colab": {
     "base_uri": "https://localhost:8080/",
     "height": 641
    },
    "id": "ZfmUsmZKtkuO",
    "outputId": "23976c19-24fb-4cc9-d38c-0cfbd966c08d"
   },
   "outputs": [
    {
     "data": {
      "text/html": [
       "<div>\n",
       "<style scoped>\n",
       "    .dataframe tbody tr th:only-of-type {\n",
       "        vertical-align: middle;\n",
       "    }\n",
       "\n",
       "    .dataframe tbody tr th {\n",
       "        vertical-align: top;\n",
       "    }\n",
       "\n",
       "    .dataframe thead th {\n",
       "        text-align: right;\n",
       "    }\n",
       "</style>\n",
       "<table border=\"1\" class=\"dataframe\">\n",
       "  <thead>\n",
       "    <tr style=\"text-align: right;\">\n",
       "      <th></th>\n",
       "      <th>title</th>\n",
       "      <th>rating</th>\n",
       "      <th>body</th>\n",
       "      <th>y</th>\n",
       "      <th>cleaned_reviews</th>\n",
       "      <th>classes</th>\n",
       "    </tr>\n",
       "  </thead>\n",
       "  <tbody>\n",
       "    <tr>\n",
       "      <th>0</th>\n",
       "      <td>One of my favorite Amazon purchases ever!</td>\n",
       "      <td>5.0</td>\n",
       "      <td>these are so much fun we ordered the small siz...</td>\n",
       "      <td>2</td>\n",
       "      <td>much fun order small size fit standard hardbac...</td>\n",
       "      <td>good</td>\n",
       "    </tr>\n",
       "    <tr>\n",
       "      <th>1</th>\n",
       "      <td>As expected but doesn’t fit standard hardcover</td>\n",
       "      <td>4.0</td>\n",
       "      <td>let me start by saying i’ve got a master’s deg...</td>\n",
       "      <td>2</td>\n",
       "      <td>let start say got master degre english clearli...</td>\n",
       "      <td>good</td>\n",
       "    </tr>\n",
       "    <tr>\n",
       "      <th>2</th>\n",
       "      <td>Happy mom day to me</td>\n",
       "      <td>5.0</td>\n",
       "      <td>these are awesome i should’ve bought the small...</td>\n",
       "      <td>2</td>\n",
       "      <td>awesom bought small mani larg book use conceal...</td>\n",
       "      <td>good</td>\n",
       "    </tr>\n",
       "    <tr>\n",
       "      <th>3</th>\n",
       "      <td>Perfect for Sonos One</td>\n",
       "      <td>5.0</td>\n",
       "      <td>i wanted to mount a sonos speaker in my bathro...</td>\n",
       "      <td>2</td>\n",
       "      <td>want mount sono speaker bathroom drill marbl t...</td>\n",
       "      <td>good</td>\n",
       "    </tr>\n",
       "    <tr>\n",
       "      <th>4</th>\n",
       "      <td>Very sturdy even after multiple moves and 5 ye...</td>\n",
       "      <td>5.0</td>\n",
       "      <td>i love these floating bookshelves they give a ...</td>\n",
       "      <td>2</td>\n",
       "      <td>love float bookshelv give magic feel room boug...</td>\n",
       "      <td>good</td>\n",
       "    </tr>\n",
       "    <tr>\n",
       "      <th>...</th>\n",
       "      <td>...</td>\n",
       "      <td>...</td>\n",
       "      <td>...</td>\n",
       "      <td>...</td>\n",
       "      <td>...</td>\n",
       "      <td>...</td>\n",
       "    </tr>\n",
       "    <tr>\n",
       "      <th>1417</th>\n",
       "      <td>Awesome floating shelf</td>\n",
       "      <td>5.0</td>\n",
       "      <td>this is an  shelf and decorator piece works pe...</td>\n",
       "      <td>2</td>\n",
       "      <td>shelf decor piec work perfectli cumbersom shel...</td>\n",
       "      <td>good</td>\n",
       "    </tr>\n",
       "    <tr>\n",
       "      <th>1418</th>\n",
       "      <td>My new fav</td>\n",
       "      <td>5.0</td>\n",
       "      <td>i purchased this on a whim thinking if i didnt...</td>\n",
       "      <td>2</td>\n",
       "      <td>purchas whim think didnt like could put offic ...</td>\n",
       "      <td>good</td>\n",
       "    </tr>\n",
       "    <tr>\n",
       "      <th>1419</th>\n",
       "      <td>great gifts!</td>\n",
       "      <td>5.0</td>\n",
       "      <td>i bought a half dozen of these for my new hous...</td>\n",
       "      <td>2</td>\n",
       "      <td>bought half dozen new hous id want forev came ...</td>\n",
       "      <td>good</td>\n",
       "    </tr>\n",
       "    <tr>\n",
       "      <th>1420</th>\n",
       "      <td>Very unique shelf</td>\n",
       "      <td>5.0</td>\n",
       "      <td>i love this shelf it is unique and my friends ...</td>\n",
       "      <td>2</td>\n",
       "      <td>love shelf uniqu friend alway amus bought one ...</td>\n",
       "      <td>good</td>\n",
       "    </tr>\n",
       "    <tr>\n",
       "      <th>1421</th>\n",
       "      <td>Umbra Invisible Bookshelf</td>\n",
       "      <td>4.0</td>\n",
       "      <td>this is a great product i bought it at linensn...</td>\n",
       "      <td>2</td>\n",
       "      <td>great product bought linensnth threedollar</td>\n",
       "      <td>good</td>\n",
       "    </tr>\n",
       "  </tbody>\n",
       "</table>\n",
       "<p>1422 rows × 6 columns</p>\n",
       "</div>"
      ],
      "text/plain": [
       "                                                  title  rating  \\\n",
       "0             One of my favorite Amazon purchases ever!     5.0   \n",
       "1        As expected but doesn’t fit standard hardcover     4.0   \n",
       "2                                   Happy mom day to me     5.0   \n",
       "3                                 Perfect for Sonos One     5.0   \n",
       "4     Very sturdy even after multiple moves and 5 ye...     5.0   \n",
       "...                                                 ...     ...   \n",
       "1417                             Awesome floating shelf     5.0   \n",
       "1418                                         My new fav     5.0   \n",
       "1419                                       great gifts!     5.0   \n",
       "1420                                  Very unique shelf     5.0   \n",
       "1421                          Umbra Invisible Bookshelf     4.0   \n",
       "\n",
       "                                                   body  y  \\\n",
       "0     these are so much fun we ordered the small siz...  2   \n",
       "1     let me start by saying i’ve got a master’s deg...  2   \n",
       "2     these are awesome i should’ve bought the small...  2   \n",
       "3     i wanted to mount a sonos speaker in my bathro...  2   \n",
       "4     i love these floating bookshelves they give a ...  2   \n",
       "...                                                 ... ..   \n",
       "1417  this is an  shelf and decorator piece works pe...  2   \n",
       "1418  i purchased this on a whim thinking if i didnt...  2   \n",
       "1419  i bought a half dozen of these for my new hous...  2   \n",
       "1420  i love this shelf it is unique and my friends ...  2   \n",
       "1421  this is a great product i bought it at linensn...  2   \n",
       "\n",
       "                                        cleaned_reviews classes  \n",
       "0     much fun order small size fit standard hardbac...    good  \n",
       "1     let start say got master degre english clearli...    good  \n",
       "2     awesom bought small mani larg book use conceal...    good  \n",
       "3     want mount sono speaker bathroom drill marbl t...    good  \n",
       "4     love float bookshelv give magic feel room boug...    good  \n",
       "...                                                 ...     ...  \n",
       "1417  shelf decor piec work perfectli cumbersom shel...    good  \n",
       "1418  purchas whim think didnt like could put offic ...    good  \n",
       "1419  bought half dozen new hous id want forev came ...    good  \n",
       "1420  love shelf uniqu friend alway amus bought one ...    good  \n",
       "1421         great product bought linensnth threedollar    good  \n",
       "\n",
       "[1422 rows x 6 columns]"
      ]
     },
     "execution_count": 25,
     "metadata": {},
     "output_type": "execute_result"
    }
   ],
   "source": [
    "new_df"
   ]
  },
  {
   "cell_type": "code",
   "execution_count": 26,
   "metadata": {
    "id": "2eYZgskjtvAb"
   },
   "outputs": [],
   "source": [
    "new_df2 = pd.DataFrame(new_df)\n",
    "new_df2.to_csv(r'rd_update.csv', index=False)"
   ]
  },
  {
   "cell_type": "code",
   "execution_count": null,
   "metadata": {},
   "outputs": [],
   "source": []
  },
  {
   "cell_type": "code",
   "execution_count": 27,
   "metadata": {
    "id": "RkRXXG20xx3X"
   },
   "outputs": [],
   "source": [
    "import spacy\n",
    "import en_core_web_sm\n",
    "nlp = spacy.load(\"en_core_web_sm\")"
   ]
  },
  {
   "cell_type": "code",
   "execution_count": 28,
   "metadata": {
    "colab": {
     "base_uri": "https://localhost:8080/",
     "height": 424
    },
    "id": "oA54uhTmx5Rm",
    "outputId": "211f4b72-e4bf-44eb-f28f-4f5ba222a15d"
   },
   "outputs": [
    {
     "data": {
      "text/html": [
       "<div>\n",
       "<style scoped>\n",
       "    .dataframe tbody tr th:only-of-type {\n",
       "        vertical-align: middle;\n",
       "    }\n",
       "\n",
       "    .dataframe tbody tr th {\n",
       "        vertical-align: top;\n",
       "    }\n",
       "\n",
       "    .dataframe thead th {\n",
       "        text-align: right;\n",
       "    }\n",
       "</style>\n",
       "<table border=\"1\" class=\"dataframe\">\n",
       "  <thead>\n",
       "    <tr style=\"text-align: right;\">\n",
       "      <th></th>\n",
       "      <th>title</th>\n",
       "      <th>rating</th>\n",
       "      <th>body</th>\n",
       "      <th>y</th>\n",
       "      <th>cleaned_reviews</th>\n",
       "      <th>classes</th>\n",
       "      <th>cleaned_reviews_1</th>\n",
       "    </tr>\n",
       "  </thead>\n",
       "  <tbody>\n",
       "    <tr>\n",
       "      <th>0</th>\n",
       "      <td>One of my favorite Amazon purchases ever!</td>\n",
       "      <td>5.0</td>\n",
       "      <td>these are so much fun we ordered the small siz...</td>\n",
       "      <td>2</td>\n",
       "      <td>much fun order small size fit standard hardbac...</td>\n",
       "      <td>good</td>\n",
       "      <td>[fun, order, small, size, fit, standard, hardb...</td>\n",
       "    </tr>\n",
       "    <tr>\n",
       "      <th>1</th>\n",
       "      <td>As expected but doesn’t fit standard hardcover</td>\n",
       "      <td>4.0</td>\n",
       "      <td>let me start by saying i’ve got a master’s deg...</td>\n",
       "      <td>2</td>\n",
       "      <td>let start say got master degre english clearli...</td>\n",
       "      <td>good</td>\n",
       "      <td>[let, start, get, master, degre, english, clea...</td>\n",
       "    </tr>\n",
       "    <tr>\n",
       "      <th>2</th>\n",
       "      <td>Happy mom day to me</td>\n",
       "      <td>5.0</td>\n",
       "      <td>these are awesome i should’ve bought the small...</td>\n",
       "      <td>2</td>\n",
       "      <td>awesom bought small mani larg book use conceal...</td>\n",
       "      <td>good</td>\n",
       "      <td>[awesom, buy, small, mani, larg, book, use, co...</td>\n",
       "    </tr>\n",
       "    <tr>\n",
       "      <th>3</th>\n",
       "      <td>Perfect for Sonos One</td>\n",
       "      <td>5.0</td>\n",
       "      <td>i wanted to mount a sonos speaker in my bathro...</td>\n",
       "      <td>2</td>\n",
       "      <td>want mount sono speaker bathroom drill marbl t...</td>\n",
       "      <td>good</td>\n",
       "      <td>[want, mount, sono, speaker, bathroom, drill, ...</td>\n",
       "    </tr>\n",
       "    <tr>\n",
       "      <th>4</th>\n",
       "      <td>Very sturdy even after multiple moves and 5 ye...</td>\n",
       "      <td>5.0</td>\n",
       "      <td>i love these floating bookshelves they give a ...</td>\n",
       "      <td>2</td>\n",
       "      <td>love float bookshelv give magic feel room boug...</td>\n",
       "      <td>good</td>\n",
       "      <td>[love, float, bookshelv, magic, feel, room, bu...</td>\n",
       "    </tr>\n",
       "    <tr>\n",
       "      <th>...</th>\n",
       "      <td>...</td>\n",
       "      <td>...</td>\n",
       "      <td>...</td>\n",
       "      <td>...</td>\n",
       "      <td>...</td>\n",
       "      <td>...</td>\n",
       "      <td>...</td>\n",
       "    </tr>\n",
       "    <tr>\n",
       "      <th>1417</th>\n",
       "      <td>Awesome floating shelf</td>\n",
       "      <td>5.0</td>\n",
       "      <td>this is an  shelf and decorator piece works pe...</td>\n",
       "      <td>2</td>\n",
       "      <td>shelf decor piec work perfectli cumbersom shel...</td>\n",
       "      <td>good</td>\n",
       "      <td>[shelf, decor, piec, work, perfectli, cumberso...</td>\n",
       "    </tr>\n",
       "    <tr>\n",
       "      <th>1418</th>\n",
       "      <td>My new fav</td>\n",
       "      <td>5.0</td>\n",
       "      <td>i purchased this on a whim thinking if i didnt...</td>\n",
       "      <td>2</td>\n",
       "      <td>purchas whim think didnt like could put offic ...</td>\n",
       "      <td>good</td>\n",
       "      <td>[purchas, whim, think, like, offic, sight, lov...</td>\n",
       "    </tr>\n",
       "    <tr>\n",
       "      <th>1419</th>\n",
       "      <td>great gifts!</td>\n",
       "      <td>5.0</td>\n",
       "      <td>i bought a half dozen of these for my new hous...</td>\n",
       "      <td>2</td>\n",
       "      <td>bought half dozen new hous id want forev came ...</td>\n",
       "      <td>good</td>\n",
       "      <td>[buy, half, dozen, new, hous, want, forev, com...</td>\n",
       "    </tr>\n",
       "    <tr>\n",
       "      <th>1420</th>\n",
       "      <td>Very unique shelf</td>\n",
       "      <td>5.0</td>\n",
       "      <td>i love this shelf it is unique and my friends ...</td>\n",
       "      <td>2</td>\n",
       "      <td>love shelf uniqu friend alway amus bought one ...</td>\n",
       "      <td>good</td>\n",
       "      <td>[love, shelf, uniqu, friend, alway, amus, buy,...</td>\n",
       "    </tr>\n",
       "    <tr>\n",
       "      <th>1421</th>\n",
       "      <td>Umbra Invisible Bookshelf</td>\n",
       "      <td>4.0</td>\n",
       "      <td>this is a great product i bought it at linensn...</td>\n",
       "      <td>2</td>\n",
       "      <td>great product bought linensnth threedollar</td>\n",
       "      <td>good</td>\n",
       "      <td>[great, product, buy, linensnth, threedollar]</td>\n",
       "    </tr>\n",
       "  </tbody>\n",
       "</table>\n",
       "<p>1422 rows × 7 columns</p>\n",
       "</div>"
      ],
      "text/plain": [
       "                                                  title  rating  \\\n",
       "0             One of my favorite Amazon purchases ever!     5.0   \n",
       "1        As expected but doesn’t fit standard hardcover     4.0   \n",
       "2                                   Happy mom day to me     5.0   \n",
       "3                                 Perfect for Sonos One     5.0   \n",
       "4     Very sturdy even after multiple moves and 5 ye...     5.0   \n",
       "...                                                 ...     ...   \n",
       "1417                             Awesome floating shelf     5.0   \n",
       "1418                                         My new fav     5.0   \n",
       "1419                                       great gifts!     5.0   \n",
       "1420                                  Very unique shelf     5.0   \n",
       "1421                          Umbra Invisible Bookshelf     4.0   \n",
       "\n",
       "                                                   body  y  \\\n",
       "0     these are so much fun we ordered the small siz...  2   \n",
       "1     let me start by saying i’ve got a master’s deg...  2   \n",
       "2     these are awesome i should’ve bought the small...  2   \n",
       "3     i wanted to mount a sonos speaker in my bathro...  2   \n",
       "4     i love these floating bookshelves they give a ...  2   \n",
       "...                                                 ... ..   \n",
       "1417  this is an  shelf and decorator piece works pe...  2   \n",
       "1418  i purchased this on a whim thinking if i didnt...  2   \n",
       "1419  i bought a half dozen of these for my new hous...  2   \n",
       "1420  i love this shelf it is unique and my friends ...  2   \n",
       "1421  this is a great product i bought it at linensn...  2   \n",
       "\n",
       "                                        cleaned_reviews classes  \\\n",
       "0     much fun order small size fit standard hardbac...    good   \n",
       "1     let start say got master degre english clearli...    good   \n",
       "2     awesom bought small mani larg book use conceal...    good   \n",
       "3     want mount sono speaker bathroom drill marbl t...    good   \n",
       "4     love float bookshelv give magic feel room boug...    good   \n",
       "...                                                 ...     ...   \n",
       "1417  shelf decor piec work perfectli cumbersom shel...    good   \n",
       "1418  purchas whim think didnt like could put offic ...    good   \n",
       "1419  bought half dozen new hous id want forev came ...    good   \n",
       "1420  love shelf uniqu friend alway amus bought one ...    good   \n",
       "1421         great product bought linensnth threedollar    good   \n",
       "\n",
       "                                      cleaned_reviews_1  \n",
       "0     [fun, order, small, size, fit, standard, hardb...  \n",
       "1     [let, start, get, master, degre, english, clea...  \n",
       "2     [awesom, buy, small, mani, larg, book, use, co...  \n",
       "3     [want, mount, sono, speaker, bathroom, drill, ...  \n",
       "4     [love, float, bookshelv, magic, feel, room, bu...  \n",
       "...                                                 ...  \n",
       "1417  [shelf, decor, piec, work, perfectli, cumberso...  \n",
       "1418  [purchas, whim, think, like, offic, sight, lov...  \n",
       "1419  [buy, half, dozen, new, hous, want, forev, com...  \n",
       "1420  [love, shelf, uniqu, friend, alway, amus, buy,...  \n",
       "1421      [great, product, buy, linensnth, threedollar]  \n",
       "\n",
       "[1422 rows x 7 columns]"
      ]
     },
     "execution_count": 28,
     "metadata": {},
     "output_type": "execute_result"
    }
   ],
   "source": [
    "def normalize(msg):\n",
    "    msg = re.sub('[^A-Za-z]+', ' ', msg) #remove special character and intergers\n",
    "    doc = nlp(msg)\n",
    "    res=[]\n",
    "    for token in doc:\n",
    "        if(token.is_stop or token.is_punct or token.is_currency or token.is_space or len(token.text) <= 2): #word filteration\n",
    "            pass\n",
    "        else:\n",
    "            res.append(token.lemma_.lower())\n",
    "    return res\n",
    "\n",
    "new_df[\"cleaned_reviews_1\"] = new_df[\"cleaned_reviews\"].apply(normalize)\n",
    "new_df"
   ]
  },
  {
   "cell_type": "code",
   "execution_count": 60,
   "metadata": {
    "colab": {
     "base_uri": "https://localhost:8080/",
     "height": 423
    },
    "id": "yjCH-108y_Fs",
    "outputId": "5cdc1df4-2629-4c7d-d5c7-771c2ab70478"
   },
   "outputs": [
    {
     "data": {
      "text/html": [
       "<div>\n",
       "<style scoped>\n",
       "    .dataframe tbody tr th:only-of-type {\n",
       "        vertical-align: middle;\n",
       "    }\n",
       "\n",
       "    .dataframe tbody tr th {\n",
       "        vertical-align: top;\n",
       "    }\n",
       "\n",
       "    .dataframe thead th {\n",
       "        text-align: right;\n",
       "    }\n",
       "</style>\n",
       "<table border=\"1\" class=\"dataframe\">\n",
       "  <thead>\n",
       "    <tr style=\"text-align: right;\">\n",
       "      <th></th>\n",
       "      <th>most_common</th>\n",
       "      <th>count</th>\n",
       "    </tr>\n",
       "  </thead>\n",
       "  <tbody>\n",
       "    <tr>\n",
       "      <th>0</th>\n",
       "      <td>book</td>\n",
       "      <td>1548</td>\n",
       "    </tr>\n",
       "    <tr>\n",
       "      <th>1</th>\n",
       "      <td>look</td>\n",
       "      <td>548</td>\n",
       "    </tr>\n",
       "    <tr>\n",
       "      <th>2</th>\n",
       "      <td>wall</td>\n",
       "      <td>446</td>\n",
       "    </tr>\n",
       "    <tr>\n",
       "      <th>3</th>\n",
       "      <td>great</td>\n",
       "      <td>444</td>\n",
       "    </tr>\n",
       "    <tr>\n",
       "      <th>4</th>\n",
       "      <td>shelf</td>\n",
       "      <td>433</td>\n",
       "    </tr>\n",
       "    <tr>\n",
       "      <th>...</th>\n",
       "      <td>...</td>\n",
       "      <td>...</td>\n",
       "    </tr>\n",
       "    <tr>\n",
       "      <th>995</th>\n",
       "      <td>technolog</td>\n",
       "      <td>2</td>\n",
       "    </tr>\n",
       "    <tr>\n",
       "      <th>996</th>\n",
       "      <td>pass</td>\n",
       "      <td>2</td>\n",
       "    </tr>\n",
       "    <tr>\n",
       "      <th>997</th>\n",
       "      <td>folk</td>\n",
       "      <td>2</td>\n",
       "    </tr>\n",
       "    <tr>\n",
       "      <th>998</th>\n",
       "      <td>pencil</td>\n",
       "      <td>2</td>\n",
       "    </tr>\n",
       "    <tr>\n",
       "      <th>999</th>\n",
       "      <td>bookhold</td>\n",
       "      <td>2</td>\n",
       "    </tr>\n",
       "  </tbody>\n",
       "</table>\n",
       "<p>1000 rows × 2 columns</p>\n",
       "</div>"
      ],
      "text/plain": [
       "    most_common  count\n",
       "0          book   1548\n",
       "1          look    548\n",
       "2          wall    446\n",
       "3         great    444\n",
       "4         shelf    433\n",
       "..          ...    ...\n",
       "995   technolog      2\n",
       "996        pass      2\n",
       "997        folk      2\n",
       "998      pencil      2\n",
       "999    bookhold      2\n",
       "\n",
       "[1000 rows x 2 columns]"
      ]
     },
     "execution_count": 60,
     "metadata": {},
     "output_type": "execute_result"
    }
   ],
   "source": [
    "# words count\n",
    "from collections import Counter\n",
    "words_collection = Counter([words for subtext in new_df['cleaned_reviews_1'] for words in subtext])\n",
    "most_common = pd.DataFrame(words_collection.most_common(1000))\n",
    "most_common.columns = ['most_common','count']\n",
    "most_common"
   ]
  },
  {
   "cell_type": "code",
   "execution_count": 61,
   "metadata": {
    "id": "vsr-sWpXzVV9"
   },
   "outputs": [],
   "source": [
    "most_comn = pd.DataFrame(most_common)\n",
    "most_comn.to_csv(r'most_common.csv', index=False)"
   ]
  },
  {
   "cell_type": "code",
   "execution_count": 65,
   "metadata": {
    "colab": {
     "base_uri": "https://localhost:8080/",
     "height": 485
    },
    "id": "_Br2yb_L0Gf1",
    "outputId": "11632836-7659-4c64-8be8-51843118de8b"
   },
   "outputs": [],
   "source": [
    "words= most_common['most_common']"
   ]
  },
  {
   "cell_type": "code",
   "execution_count": 66,
   "metadata": {
    "id": "KasRUpyv32le"
   },
   "outputs": [],
   "source": [
    "word_list = ' '.join(words)"
   ]
  },
  {
   "cell_type": "code",
   "execution_count": 67,
   "metadata": {},
   "outputs": [],
   "source": [
    "#plotting wordcloud for most common words \n",
    "wordcloud = WordCloud(background_color='black',width=2000,height=2000).generate(word_list)\n"
   ]
  },
  {
   "cell_type": "code",
   "execution_count": 68,
   "metadata": {},
   "outputs": [
    {
     "data": {
      "text/plain": [
       "<matplotlib.image.AxesImage at 0x2a8d372e370>"
      ]
     },
     "execution_count": 68,
     "metadata": {},
     "output_type": "execute_result"
    },
    {
     "data": {
      "image/png": "[encoded data removed]",
      "text/plain": [
       "<Figure size 432x288 with 1 Axes>"
      ]
     },
     "metadata": {
      "needs_background": "light"
     },
     "output_type": "display_data"
    }
   ],
   "source": [
    "plt.imshow(wordcloud)"
   ]
  },
  {
   "cell_type": "code",
   "execution_count": 69,
   "metadata": {},
   "outputs": [],
   "source": [
    "import matplotlib.pyplot\n",
    "import seaborn as sns\n",
    "%matplotlib inline"
   ]
  },
  {
   "cell_type": "code",
   "execution_count": 70,
   "metadata": {},
   "outputs": [
    {
     "data": {
      "text/plain": [
       "count     1422\n",
       "unique       3\n",
       "top       good\n",
       "freq      1297\n",
       "Name: classes, dtype: object"
      ]
     },
     "execution_count": 70,
     "metadata": {},
     "output_type": "execute_result"
    }
   ],
   "source": [
    "new_df['classes'].describe()"
   ]
  },
  {
   "cell_type": "code",
   "execution_count": 71,
   "metadata": {},
   "outputs": [
    {
     "data": {
      "text/plain": [
       "good        1297\n",
       "bad           68\n",
       "moderate      57\n",
       "Name: classes, dtype: int64"
      ]
     },
     "execution_count": 71,
     "metadata": {},
     "output_type": "execute_result"
    }
   ],
   "source": [
    "new_df['classes'].value_counts()"
   ]
  },
  {
   "cell_type": "code",
   "execution_count": 72,
   "metadata": {},
   "outputs": [
    {
     "data": {
      "text/plain": [
       "(array([1297.,    0.,    0.,    0.,    0.,   68.,    0.,    0.,    0.,\n",
       "          57.]),\n",
       " array([0. , 0.2, 0.4, 0.6, 0.8, 1. , 1.2, 1.4, 1.6, 1.8, 2. ]),\n",
       " <BarContainer object of 10 artists>)"
      ]
     },
     "execution_count": 72,
     "metadata": {},
     "output_type": "execute_result"
    },
    {
     "data": {
      "image/png": "[encoded data removed]",
      "text/plain": [
       "<Figure size 432x288 with 1 Axes>"
      ]
     },
     "metadata": {
      "needs_background": "light"
     },
     "output_type": "display_data"
    }
   ],
   "source": [
    "#plotting histogram for classes\n",
    "plt.hist(new_df['classes'])"
   ]
  },
  {
   "cell_type": "code",
   "execution_count": 73,
   "metadata": {},
   "outputs": [
    {
     "data": {
      "text/plain": [
       "<AxesSubplot:ylabel='classes'>"
      ]
     },
     "execution_count": 73,
     "metadata": {},
     "output_type": "execute_result"
    },
    {
     "data": {
      "image/png": "[encoded data removed]",
      "text/plain": [
       "<Figure size 432x288 with 1 Axes>"
      ]
     },
     "metadata": {},
     "output_type": "display_data"
    }
   ],
   "source": [
    "#plotting piechart for classes\n",
    "new_df['classes'].value_counts().plot(kind=\"pie\")"
   ]
  },
  {
   "cell_type": "code",
   "execution_count": 74,
   "metadata": {},
   "outputs": [
    {
     "data": {
      "text/plain": [
       "count    1422.000000\n",
       "mean        4.606188\n",
       "std         0.863468\n",
       "min         1.000000\n",
       "25%         5.000000\n",
       "50%         5.000000\n",
       "75%         5.000000\n",
       "max         5.000000\n",
       "Name: rating, dtype: float64"
      ]
     },
     "execution_count": 74,
     "metadata": {},
     "output_type": "execute_result"
    }
   ],
   "source": [
    "new_df['rating'].describe()"
   ]
  },
  {
   "cell_type": "code",
   "execution_count": 75,
   "metadata": {},
   "outputs": [
    {
     "data": {
      "text/plain": [
       "5.0    1088\n",
       "4.0     209\n",
       "3.0      57\n",
       "2.0      35\n",
       "1.0      33\n",
       "Name: rating, dtype: int64"
      ]
     },
     "execution_count": 75,
     "metadata": {},
     "output_type": "execute_result"
    }
   ],
   "source": [
    "new_df['rating'].value_counts()"
   ]
  },
  {
   "cell_type": "code",
   "execution_count": 76,
   "metadata": {},
   "outputs": [
    {
     "data": {
      "text/plain": [
       "(array([  33.,    0.,   35.,    0.,    0.,   57.,    0.,  209.,    0.,\n",
       "        1088.]),\n",
       " array([1. , 1.4, 1.8, 2.2, 2.6, 3. , 3.4, 3.8, 4.2, 4.6, 5. ]),\n",
       " <BarContainer object of 10 artists>)"
      ]
     },
     "execution_count": 76,
     "metadata": {},
     "output_type": "execute_result"
    },
    {
     "data": {
      "image/png": "[encoded data removed]",
      "text/plain": [
       "<Figure size 432x288 with 1 Axes>"
      ]
     },
     "metadata": {
      "needs_background": "light"
     },
     "output_type": "display_data"
    }
   ],
   "source": [
    "#plotting histogram for rating\n",
    "plt.hist(new_df['rating'])"
   ]
  },
  {
   "cell_type": "code",
   "execution_count": 77,
   "metadata": {},
   "outputs": [
    {
     "data": {
      "text/plain": [
       "<AxesSubplot:ylabel='rating'>"
      ]
     },
     "execution_count": 77,
     "metadata": {},
     "output_type": "execute_result"
    },
    {
     "data": {
      "image/png": "[encoded data removed]",
      "text/plain": [
       "<Figure size 432x288 with 1 Axes>"
      ]
     },
     "metadata": {},
     "output_type": "display_data"
    }
   ],
   "source": [
    "#plotting piechart for rating\n",
    "new_df['rating'].value_counts().plot(kind=\"pie\")"
   ]
  },
  {
   "cell_type": "code",
   "execution_count": 78,
   "metadata": {},
   "outputs": [
    {
     "data": {
      "text/plain": [
       "<AxesSubplot:xlabel='rating'>"
      ]
     },
     "execution_count": 78,
     "metadata": {},
     "output_type": "execute_result"
    },
    {
     "data": {
      "image/png": "[encoded data removed]",
      "text/plain": [
       "<Figure size 432x288 with 1 Axes>"
      ]
     },
     "metadata": {
      "needs_background": "light"
     },
     "output_type": "display_data"
    }
   ],
   "source": [
    "# bar plot between rating and classes  \n",
    "pd.crosstab(new_df.rating,new_df.classes).plot(kind=\"bar\")"
   ]
  },
  {
   "cell_type": "code",
   "execution_count": 80,
   "metadata": {},
   "outputs": [
    {
     "data": {
      "text/plain": [
       "<AxesSubplot:title={'center':'50 Commonly used words'}, xlabel='most_common'>"
      ]
     },
     "execution_count": 80,
     "metadata": {},
     "output_type": "execute_result"
    },
    {
     "data": {
      "image/png": "[encoded data removed]",
      "text/plain": [
       "<Figure size 864x576 with 1 Axes>"
      ]
     },
     "metadata": {
      "needs_background": "light"
     },
     "output_type": "display_data"
    }
   ],
   "source": [
    "#plotting bar graph for top 10 most common words\n",
    "\n",
    "most_common[0:50].plot.bar(x='most_common',figsize=(12,8),title='50 Commonly used words')"
   ]
  },
  {
   "cell_type": "code",
   "execution_count": 110,
   "metadata": {},
   "outputs": [],
   "source": [
    "# Define a function to plot word cloud\n",
    "def plot_cloud(wordcloud):\n",
    "    plt.figure(figsize=(15,8))\n",
    "    plt.imshow(wordcloud)\n",
    "    plt.axis('off')"
   ]
  },
  {
   "cell_type": "code",
   "execution_count": 111,
   "metadata": {},
   "outputs": [],
   "source": [
    "words= most_common['most_common']\n",
    "words_= ' '.join(words)"
   ]
  },
  {
   "cell_type": "code",
   "execution_count": 112,
   "metadata": {},
   "outputs": [
    {
     "data": {
      "image/png": "[encoded data removed]",
      "text/plain": [
       "<Figure size 1080x576 with 1 Axes>"
      ]
     },
     "metadata": {
      "needs_background": "light"
     },
     "output_type": "display_data"
    }
   ],
   "source": [
    "wordcloud=WordCloud(width=1000,height=1000,background_color='black',max_words=50,\n",
    "                   colormap='Set1').generate(words_)\n",
    "plot_cloud(wordcloud)"
   ]
  },
  {
   "cell_type": "code",
   "execution_count": 115,
   "metadata": {},
   "outputs": [],
   "source": [
    "def percentage_ratings(data, category):\n",
    "    return (len(data[data[\"classes\"] == category])/len(data)) * 100"
   ]
  },
  {
   "cell_type": "code",
   "execution_count": 116,
   "metadata": {},
   "outputs": [
    {
     "name": "stdout",
     "output_type": "stream",
     "text": [
      "Percentage of Good words  91.20956399437412 %\n",
      "Percentage of moderate words  4.008438818565401 %\n",
      "Percentage of bad words  4.781997187060478 %\n"
     ]
    }
   ],
   "source": [
    "print(f\"Percentage of Good words  {percentage_ratings(new_df, 'good')} %\")\n",
    "print(f\"Percentage of moderate words  {percentage_ratings(new_df, 'moderate')} %\")\n",
    "print(f\"Percentage of bad words  {percentage_ratings(new_df, 'bad')} %\")"
   ]
  },
  {
   "cell_type": "code",
   "execution_count": null,
   "metadata": {},
   "outputs": [],
   "source": []
  },
  {
   "cell_type": "code",
   "execution_count": null,
   "metadata": {},
   "outputs": [],
   "source": []
  },
  {
   "cell_type": "code",
   "execution_count": null,
   "metadata": {},
   "outputs": [],
   "source": []
  },
  {
   "cell_type": "code",
   "execution_count": null,
   "metadata": {},
   "outputs": [],
   "source": []
  },
  {
   "cell_type": "code",
   "execution_count": null,
   "metadata": {},
   "outputs": [],
   "source": []
  }
 ],
 "metadata": {
  "colab": {
   "collapsed_sections": [],
   "name": "(PP)Amazon_reviews_floating_bs.ipynb",
   "provenance": []
  },
  "kernelspec": {
   "display_name": "Python 3",
   "language": "python",
   "name": "python3"
  },
  "language_info": {
   "codemirror_mode": {
    "name": "ipython",
    "version": 3
   },
   "file_extension": ".py",
   "mimetype": "text/x-python",
   "name": "python",
   "nbconvert_exporter": "python",
   "pygments_lexer": "ipython3",
   "version": "3.8.3"
  },
  "varInspector": {
   "cols": {
    "lenName": 16,
    "lenType": 16,
    "lenVar": 40
   },
   "kernels_config": {
    "python": {
     "delete_cmd_postfix": "",
     "delete_cmd_prefix": "del ",
     "library": "var_list.py",
     "varRefreshCmd": "print(var_dic_list())"
    },
    "r": {
     "delete_cmd_postfix": ") ",
     "delete_cmd_prefix": "rm(",
     "library": "var_list.r",
     "varRefreshCmd": "cat(var_dic_list()) "
    }
   },
   "types_to_exclude": [
    "module",
    "function",
    "builtin_function_or_method",
    "instance",
    "_Feature"
   ],
   "window_display": false
  }
 },
 "nbformat": 4,
 "nbformat_minor": 1
}
